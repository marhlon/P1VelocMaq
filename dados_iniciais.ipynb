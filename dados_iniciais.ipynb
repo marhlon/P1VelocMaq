{
 "cells": [
  {
   "cell_type": "markdown",
   "metadata": {},
   "source": [
    "# Materiais extrusados - Técnicas de Machine Learning"
   ]
  },
  {
   "cell_type": "markdown",
   "metadata": {},
   "source": [
    "### Métodos:\n",
    "\n",
    "* Regressão Linear\n",
    "* Regressão Logistica\n",
    "* SVM\n",
    "* KNN (Classificação e Regressão)\n",
    "* RandomForest (Classificação e Regressão)\n",
    "* DecisionTree (Classificação e Regressão)\n",
    "* Redes Neurais (Classificação e Regressão)"
   ]
  },
  {
   "cell_type": "code",
   "execution_count": 1,
   "metadata": {},
   "outputs": [
    {
     "name": "stdout",
     "output_type": "stream",
     "text": [
      "Python 3.8.3\n"
     ]
    }
   ],
   "source": [
    "!python --version"
   ]
  },
  {
   "cell_type": "code",
   "execution_count": 2,
   "metadata": {},
   "outputs": [
    {
     "name": "stdout",
     "output_type": "stream",
     "text": [
      "Num GPUs Available 0\n"
     ]
    }
   ],
   "source": [
    "import tensorflow as tf\n",
    "print(\"Num GPUs Available\", len(tf.config.experimental.list_physical_devices('GPU')))"
   ]
  },
  {
   "cell_type": "code",
   "execution_count": 3,
   "metadata": {},
   "outputs": [],
   "source": [
    "# Importando as bibliotecas (pandas, numpy, matplotlib e seaborn, StandardScaler e train_test_split\n",
    "import pandas as pd\n",
    "import numpy as np\n",
    "import matplotlib.pyplot as plt\n",
    "import seaborn as sns\n",
    "from sklearn.preprocessing import MinMaxScaler\n",
    "from sklearn.preprocessing import LabelEncoder, OneHotEncoder\n",
    "from sklearn.compose import ColumnTransformer\n",
    "from sklearn.model_selection import train_test_split\n",
    "from sklearn.preprocessing import StandardScaler\n",
    "from sklearn.metrics import accuracy_score, f1_score, precision_score, classification_report ,confusion_matrix\n",
    "from sklearn.metrics import mean_absolute_error, mean_squared_error, r2_score, mean_absolute_percentage_error\n",
    "\n",
    "import warnings\n",
    "warnings.filterwarnings(\"ignore\")"
   ]
  },
  {
   "cell_type": "code",
   "execution_count": 4,
   "metadata": {},
   "outputs": [],
   "source": [
    "#importando o arquivo de dados\n",
    "base_extrusao = 'dados_analise.xlsx'\n",
    "df = pd.read_excel(base_extrusao)"
   ]
  },
  {
   "cell_type": "code",
   "execution_count": 5,
   "metadata": {},
   "outputs": [
    {
     "data": {
      "text/html": [
       "<div>\n",
       "<style scoped>\n",
       "    .dataframe tbody tr th:only-of-type {\n",
       "        vertical-align: middle;\n",
       "    }\n",
       "\n",
       "    .dataframe tbody tr th {\n",
       "        vertical-align: top;\n",
       "    }\n",
       "\n",
       "    .dataframe thead th {\n",
       "        text-align: right;\n",
       "    }\n",
       "</style>\n",
       "<table border=\"1\" class=\"dataframe\">\n",
       "  <thead>\n",
       "    <tr style=\"text-align: right;\">\n",
       "      <th></th>\n",
       "      <th>N° CAMADAS</th>\n",
       "      <th>FILME</th>\n",
       "      <th>µm</th>\n",
       "      <th>Item de Linha</th>\n",
       "      <th>Cor</th>\n",
       "      <th>Máquina</th>\n",
       "      <th>Centro de Trabalho</th>\n",
       "      <th>VELOCIDADE (Kg/Hora)</th>\n",
       "      <th>Setup (hora)</th>\n",
       "      <th>Perda (%)</th>\n",
       "    </tr>\n",
       "  </thead>\n",
       "  <tbody>\n",
       "    <tr>\n",
       "      <th>0</th>\n",
       "      <td>7</td>\n",
       "      <td>Material 01</td>\n",
       "      <td>180</td>\n",
       "      <td>1</td>\n",
       "      <td>Cor 01</td>\n",
       "      <td>Máquina 01</td>\n",
       "      <td>Centro 01</td>\n",
       "      <td>500</td>\n",
       "      <td>0.362</td>\n",
       "      <td>3.25</td>\n",
       "    </tr>\n",
       "    <tr>\n",
       "      <th>1</th>\n",
       "      <td>7</td>\n",
       "      <td>Material 01</td>\n",
       "      <td>200</td>\n",
       "      <td>1</td>\n",
       "      <td>Cor 01</td>\n",
       "      <td>Máquina 01</td>\n",
       "      <td>Centro 01</td>\n",
       "      <td>500</td>\n",
       "      <td>0.362</td>\n",
       "      <td>3.25</td>\n",
       "    </tr>\n",
       "    <tr>\n",
       "      <th>2</th>\n",
       "      <td>7</td>\n",
       "      <td>Material 01</td>\n",
       "      <td>220</td>\n",
       "      <td>1</td>\n",
       "      <td>Cor 01</td>\n",
       "      <td>Máquina 01</td>\n",
       "      <td>Centro 01</td>\n",
       "      <td>500</td>\n",
       "      <td>0.362</td>\n",
       "      <td>3.25</td>\n",
       "    </tr>\n",
       "    <tr>\n",
       "      <th>3</th>\n",
       "      <td>7</td>\n",
       "      <td>Material 01</td>\n",
       "      <td>250</td>\n",
       "      <td>1</td>\n",
       "      <td>Cor 01</td>\n",
       "      <td>Máquina 01</td>\n",
       "      <td>Centro 01</td>\n",
       "      <td>500</td>\n",
       "      <td>0.362</td>\n",
       "      <td>3.25</td>\n",
       "    </tr>\n",
       "    <tr>\n",
       "      <th>4</th>\n",
       "      <td>7</td>\n",
       "      <td>Material 01</td>\n",
       "      <td>100</td>\n",
       "      <td>1</td>\n",
       "      <td>Cor 01</td>\n",
       "      <td>Máquina 01</td>\n",
       "      <td>Centro 01</td>\n",
       "      <td>500</td>\n",
       "      <td>0.362</td>\n",
       "      <td>3.25</td>\n",
       "    </tr>\n",
       "  </tbody>\n",
       "</table>\n",
       "</div>"
      ],
      "text/plain": [
       "   N° CAMADAS        FILME   µm  Item de Linha     Cor     Máquina  \\\n",
       "0           7  Material 01  180              1  Cor 01  Máquina 01   \n",
       "1           7  Material 01  200              1  Cor 01  Máquina 01   \n",
       "2           7  Material 01  220              1  Cor 01  Máquina 01   \n",
       "3           7  Material 01  250              1  Cor 01  Máquina 01   \n",
       "4           7  Material 01  100              1  Cor 01  Máquina 01   \n",
       "\n",
       "  Centro de Trabalho  VELOCIDADE (Kg/Hora)  Setup (hora)  Perda (%)  \n",
       "0          Centro 01                   500         0.362       3.25  \n",
       "1          Centro 01                   500         0.362       3.25  \n",
       "2          Centro 01                   500         0.362       3.25  \n",
       "3          Centro 01                   500         0.362       3.25  \n",
       "4          Centro 01                   500         0.362       3.25  "
      ]
     },
     "execution_count": 5,
     "metadata": {},
     "output_type": "execute_result"
    }
   ],
   "source": [
    "#Avaliando e verificando os dados\n",
    "df.head()"
   ]
  },
  {
   "cell_type": "markdown",
   "metadata": {},
   "source": [
    "# Análise de dados"
   ]
  },
  {
   "cell_type": "code",
   "execution_count": 6,
   "metadata": {},
   "outputs": [
    {
     "name": "stdout",
     "output_type": "stream",
     "text": [
      "<class 'pandas.core.frame.DataFrame'>\n",
      "RangeIndex: 756 entries, 0 to 755\n",
      "Data columns (total 10 columns):\n",
      " #   Column                Non-Null Count  Dtype  \n",
      "---  ------                --------------  -----  \n",
      " 0   N° CAMADAS            756 non-null    int64  \n",
      " 1   FILME                 756 non-null    object \n",
      " 2   µm                    756 non-null    int64  \n",
      " 3   Item de Linha         756 non-null    int64  \n",
      " 4   Cor                   756 non-null    object \n",
      " 5   Máquina               756 non-null    object \n",
      " 6   Centro de Trabalho    756 non-null    object \n",
      " 7   VELOCIDADE (Kg/Hora)  756 non-null    int64  \n",
      " 8   Setup (hora)          756 non-null    float64\n",
      " 9   Perda (%)             756 non-null    float64\n",
      "dtypes: float64(2), int64(4), object(4)\n",
      "memory usage: 59.2+ KB\n"
     ]
    }
   ],
   "source": [
    "df.info()"
   ]
  },
  {
   "cell_type": "code",
   "execution_count": 7,
   "metadata": {},
   "outputs": [
    {
     "data": {
      "text/html": [
       "<div>\n",
       "<style scoped>\n",
       "    .dataframe tbody tr th:only-of-type {\n",
       "        vertical-align: middle;\n",
       "    }\n",
       "\n",
       "    .dataframe tbody tr th {\n",
       "        vertical-align: top;\n",
       "    }\n",
       "\n",
       "    .dataframe thead th {\n",
       "        text-align: right;\n",
       "    }\n",
       "</style>\n",
       "<table border=\"1\" class=\"dataframe\">\n",
       "  <thead>\n",
       "    <tr style=\"text-align: right;\">\n",
       "      <th></th>\n",
       "      <th>N° CAMADAS</th>\n",
       "      <th>µm</th>\n",
       "      <th>Item de Linha</th>\n",
       "      <th>VELOCIDADE (Kg/Hora)</th>\n",
       "      <th>Setup (hora)</th>\n",
       "      <th>Perda (%)</th>\n",
       "    </tr>\n",
       "  </thead>\n",
       "  <tbody>\n",
       "    <tr>\n",
       "      <th>count</th>\n",
       "      <td>756.000000</td>\n",
       "      <td>756.000000</td>\n",
       "      <td>756.000000</td>\n",
       "      <td>756.000000</td>\n",
       "      <td>756.000000</td>\n",
       "      <td>756.000000</td>\n",
       "    </tr>\n",
       "    <tr>\n",
       "      <th>mean</th>\n",
       "      <td>5.671958</td>\n",
       "      <td>97.026455</td>\n",
       "      <td>0.529101</td>\n",
       "      <td>402.962963</td>\n",
       "      <td>0.249061</td>\n",
       "      <td>3.813439</td>\n",
       "    </tr>\n",
       "    <tr>\n",
       "      <th>std</th>\n",
       "      <td>2.488289</td>\n",
       "      <td>50.381636</td>\n",
       "      <td>0.499483</td>\n",
       "      <td>64.009136</td>\n",
       "      <td>0.055356</td>\n",
       "      <td>2.564310</td>\n",
       "    </tr>\n",
       "    <tr>\n",
       "      <th>min</th>\n",
       "      <td>3.000000</td>\n",
       "      <td>14.000000</td>\n",
       "      <td>0.000000</td>\n",
       "      <td>290.000000</td>\n",
       "      <td>0.197000</td>\n",
       "      <td>2.690000</td>\n",
       "    </tr>\n",
       "    <tr>\n",
       "      <th>25%</th>\n",
       "      <td>3.000000</td>\n",
       "      <td>65.000000</td>\n",
       "      <td>0.000000</td>\n",
       "      <td>350.000000</td>\n",
       "      <td>0.197000</td>\n",
       "      <td>2.780000</td>\n",
       "    </tr>\n",
       "    <tr>\n",
       "      <th>50%</th>\n",
       "      <td>7.000000</td>\n",
       "      <td>87.000000</td>\n",
       "      <td>1.000000</td>\n",
       "      <td>400.000000</td>\n",
       "      <td>0.251000</td>\n",
       "      <td>2.780000</td>\n",
       "    </tr>\n",
       "    <tr>\n",
       "      <th>75%</th>\n",
       "      <td>7.000000</td>\n",
       "      <td>119.250000</td>\n",
       "      <td>1.000000</td>\n",
       "      <td>442.500000</td>\n",
       "      <td>0.292000</td>\n",
       "      <td>3.250000</td>\n",
       "    </tr>\n",
       "    <tr>\n",
       "      <th>max</th>\n",
       "      <td>9.000000</td>\n",
       "      <td>308.000000</td>\n",
       "      <td>1.000000</td>\n",
       "      <td>500.000000</td>\n",
       "      <td>0.362000</td>\n",
       "      <td>13.080000</td>\n",
       "    </tr>\n",
       "  </tbody>\n",
       "</table>\n",
       "</div>"
      ],
      "text/plain": [
       "       N° CAMADAS          µm  Item de Linha  VELOCIDADE (Kg/Hora)  \\\n",
       "count  756.000000  756.000000     756.000000            756.000000   \n",
       "mean     5.671958   97.026455       0.529101            402.962963   \n",
       "std      2.488289   50.381636       0.499483             64.009136   \n",
       "min      3.000000   14.000000       0.000000            290.000000   \n",
       "25%      3.000000   65.000000       0.000000            350.000000   \n",
       "50%      7.000000   87.000000       1.000000            400.000000   \n",
       "75%      7.000000  119.250000       1.000000            442.500000   \n",
       "max      9.000000  308.000000       1.000000            500.000000   \n",
       "\n",
       "       Setup (hora)   Perda (%)  \n",
       "count    756.000000  756.000000  \n",
       "mean       0.249061    3.813439  \n",
       "std        0.055356    2.564310  \n",
       "min        0.197000    2.690000  \n",
       "25%        0.197000    2.780000  \n",
       "50%        0.251000    2.780000  \n",
       "75%        0.292000    3.250000  \n",
       "max        0.362000   13.080000  "
      ]
     },
     "execution_count": 7,
     "metadata": {},
     "output_type": "execute_result"
    }
   ],
   "source": [
    "df.describe()"
   ]
  },
  {
   "cell_type": "code",
   "execution_count": 8,
   "metadata": {},
   "outputs": [
    {
     "data": {
      "text/plain": [
       "<seaborn.axisgrid.PairGrid at 0x2559fafe5e0>"
      ]
     },
     "execution_count": 8,
     "metadata": {},
     "output_type": "execute_result"
    },
    {
     "data": {
      "image/png": "[encoded data removed]",
      "text/plain": [
       "<Figure size 1080x1080 with 42 Axes>"
      ]
     },
     "metadata": {
      "needs_background": "light"
     },
     "output_type": "display_data"
    }
   ],
   "source": [
    "sns.pairplot(df)"
   ]
  },
  {
   "cell_type": "code",
   "execution_count": 9,
   "metadata": {},
   "outputs": [
    {
     "data": {
      "image/png": "[encoded data removed]",
      "text/plain": [
       "<Figure size 864x432 with 2 Axes>"
      ]
     },
     "metadata": {
      "needs_background": "light"
     },
     "output_type": "display_data"
    }
   ],
   "source": [
    "plt.figure(figsize=(12,6))\n",
    "corr = df.corr()\n",
    "sns.heatmap(corr, cmap=\"YlGnBu\", annot=True, yticklabels=[\"01\", \"02\", \"03\", \"04\", \"05\", \"06\", \"07\", \"08\",  \"09\", \"10\"], xticklabels=[\"01\", \"02\", \"03\", \"04\", \"05\", \"06\", \"07\", \"08\",  \"09\", \"10\"])\n",
    "plt.savefig('Imagens\\Heatmap das informações.png', format='png')\n",
    "#"
   ]
  },
  {
   "cell_type": "code",
   "execution_count": 10,
   "metadata": {},
   "outputs": [
    {
     "data": {
      "image/png": "[encoded data removed]",
      "text/plain": [
       "<Figure size 432x288 with 1 Axes>"
      ]
     },
     "metadata": {},
     "output_type": "display_data"
    }
   ],
   "source": [
    "maquina = df['Máquina'].value_counts()\n",
    "legenda = ['Máquina 1', 'Máquina 2', 'Máquina 3', 'Máquina 4']\n",
    "\n",
    "#Criação do Gráfico\n",
    "plt.pie(maquina, labels=legenda, autopct='%1.1f%%', shadow=True, startangle=90)\n",
    "\n",
    "#Adiciona Legenda\n",
    "plt.legend(legenda, bbox_to_anchor=(1.3, 1.3), loc='upper right')\n",
    "\n",
    "#Centraliza o gráfico\n",
    "plt.axis('equal')\n",
    "\n",
    "#Ajusta o espaçamento para evitar o recorte do rótulo\n",
    "plt.tight_layout()\n",
    "plt.legend().remove()\n",
    "plt.savefig('Imagens\\Percentual de Filmes por Máquina.png', format='png')\n",
    "plt.show()"
   ]
  },
  {
   "cell_type": "code",
   "execution_count": 11,
   "metadata": {},
   "outputs": [
    {
     "data": {
      "image/png": "[encoded data removed]",
      "text/plain": [
       "<Figure size 432x288 with 1 Axes>"
      ]
     },
     "metadata": {},
     "output_type": "display_data"
    }
   ],
   "source": [
    "camada = df['N° CAMADAS'].value_counts()\n",
    "legenda = ['3 Camadas', '7 Camadas', '9 Camadas']\n",
    "\n",
    "#Criação do Gráfico\n",
    "plt.pie(camada, labels=legenda, autopct='%1.1f%%', shadow=True, startangle=90)\n",
    "\n",
    "#Adiciona Legenda\n",
    "plt.legend(legenda, bbox_to_anchor=(1.3, 1.3), loc='upper right')\n",
    "\n",
    "#Centraliza o gráfico\n",
    "plt.axis('equal')\n",
    "\n",
    "#Ajusta o espaçamento para evitar o recorte do rótulo\n",
    "plt.tight_layout()\n",
    "plt.legend().remove()\n",
    "plt.savefig('Imagens\\Percentual de Filmes por Camadas.png', format='png')\n",
    "plt.show()"
   ]
  },
  {
   "cell_type": "code",
   "execution_count": 12,
   "metadata": {},
   "outputs": [
    {
     "data": {
      "image/png": "[encoded data removed]",
      "text/plain": [
       "<Figure size 432x288 with 1 Axes>"
      ]
     },
     "metadata": {},
     "output_type": "display_data"
    }
   ],
   "source": [
    "material = df['FILME'].value_counts()\n",
    "legenda = ['Material 1', 'Material 2', 'Material 3', 'Material 4', 'Material 5', 'Material 6']\n",
    "\n",
    "#Criação do Gráfico\n",
    "plt.pie(material, labels=legenda, autopct='%1.1f%%', shadow=True, startangle=90)\n",
    "\n",
    "#Adiciona Legenda\n",
    "plt.legend(legenda, bbox_to_anchor=(1.3, 1.3), loc='upper right')\n",
    "\n",
    "#Centraliza o gráfico\n",
    "plt.axis('equal')\n",
    "\n",
    "#Ajusta o espaçamento para evitar o recorte do rótulo\n",
    "plt.tight_layout()\n",
    "plt.legend().remove()\n",
    "plt.savefig('Imagens\\Percentual de Filmes por Material.png', format='png')\n",
    "plt.show()"
   ]
  },
  {
   "cell_type": "code",
   "execution_count": 13,
   "metadata": {},
   "outputs": [
    {
     "data": {
      "image/png": "[encoded data removed]",
      "text/plain": [
       "<Figure size 720x432 with 1 Axes>"
      ]
     },
     "metadata": {
      "needs_background": "light"
     },
     "output_type": "display_data"
    }
   ],
   "source": [
    "velocidade = df['VELOCIDADE (Kg/Hora)']\n",
    "fig, ax = plt.subplots(figsize = ( 10 , 6 )) \n",
    "sns.countplot(velocidade)\n",
    "for p in ax.patches:\n",
    "    ax.text(p.get_x() + p.get_width()/2., p.get_height(), '%d' % int(p.get_height()), \n",
    "            fontsize=12, color='black', ha='center', va='bottom')\n",
    "ax.set_ylabel(\"Quantidade\")\n",
    "plt.savefig(\"Imagens\\Contagem de Velocidade.png\")"
   ]
  },
  {
   "cell_type": "code",
   "execution_count": 29,
   "metadata": {},
   "outputs": [
    {
     "data": {
      "image/png": "[encoded data removed]",
      "text/plain": [
       "<Figure size 720x432 with 1 Axes>"
      ]
     },
     "metadata": {
      "needs_background": "light"
     },
     "output_type": "display_data"
    }
   ],
   "source": [
    "setup = df['Setup (hora)']\n",
    "fig, ax = plt.subplots(figsize = ( 10 , 6 )) \n",
    "sns.countplot(setup)\n",
    "for p in ax.patches:\n",
    "    ax.text(p.get_x() + p.get_width()/2., p.get_height(), '%d' % int(p.get_height()), \n",
    "            fontsize=12, color='black', ha='center', va='bottom')\n",
    "ax.set_ylabel(\"Quantidade\")\n",
    "plt.savefig(\"Imagens\\Contagem de Setup.png\")"
   ]
  },
  {
   "cell_type": "code",
   "execution_count": 15,
   "metadata": {},
   "outputs": [
    {
     "data": {
      "image/png": "[encoded data removed]",
      "text/plain": [
       "<Figure size 1152x288 with 4 Axes>"
      ]
     },
     "metadata": {
      "needs_background": "light"
     },
     "output_type": "display_data"
    }
   ],
   "source": [
    "from scipy import stats\n",
    "def quantile_plot(x, **kwargs):\n",
    "    quantiles, xr = stats.probplot(x, fit=False)\n",
    "    plt.scatter(xr, quantiles, **kwargs)\n",
    "\n",
    "g = sns.FacetGrid(df, col=\"Máquina\", height=4)\n",
    "g.map(quantile_plot, \"VELOCIDADE (Kg/Hora)\")\n",
    "plt.savefig(\"Imagens\\Distribuição de velocidades.png\")"
   ]
  },
  {
   "cell_type": "code",
   "execution_count": 16,
   "metadata": {},
   "outputs": [
    {
     "data": {
      "image/png": "[encoded data removed]",
      "text/plain": [
       "<Figure size 432x288 with 1 Axes>"
      ]
     },
     "metadata": {
      "needs_background": "light"
     },
     "output_type": "display_data"
    }
   ],
   "source": [
    "g = sns.boxplot(x=\"Máquina\", y=\"VELOCIDADE (Kg/Hora)\", data=df, palette=\"deep\")\n",
    "plt.savefig(\"Imagens\\Distribuição de velocidades.png\")"
   ]
  },
  {
   "cell_type": "code",
   "execution_count": 35,
   "metadata": {},
   "outputs": [
    {
     "ename": "AttributeError",
     "evalue": "'Series' object has no attribute 'count_values'",
     "output_type": "error",
     "traceback": [
      "\u001b[1;31m---------------------------------------------------------------------------\u001b[0m",
      "\u001b[1;31mAttributeError\u001b[0m                            Traceback (most recent call last)",
      "\u001b[1;32m<ipython-input-35-e813a5fb38ef>\u001b[0m in \u001b[0;36m<module>\u001b[1;34m\u001b[0m\n\u001b[0;32m      3\u001b[0m \u001b[1;33m\u001b[0m\u001b[0m\n\u001b[0;32m      4\u001b[0m \u001b[0mfig\u001b[0m\u001b[1;33m,\u001b[0m \u001b[0max\u001b[0m \u001b[1;33m=\u001b[0m \u001b[0mplt\u001b[0m\u001b[1;33m.\u001b[0m\u001b[0msubplots\u001b[0m\u001b[1;33m(\u001b[0m\u001b[0mfigsize\u001b[0m\u001b[1;33m=\u001b[0m\u001b[1;33m(\u001b[0m\u001b[1;36m12\u001b[0m\u001b[1;33m,\u001b[0m\u001b[1;36m12\u001b[0m\u001b[1;33m)\u001b[0m\u001b[1;33m)\u001b[0m\u001b[1;33m\u001b[0m\u001b[1;33m\u001b[0m\u001b[0m\n\u001b[1;32m----> 5\u001b[1;33m \u001b[0mmaq1\u001b[0m \u001b[1;33m=\u001b[0m \u001b[0max\u001b[0m\u001b[1;33m.\u001b[0m\u001b[0mbar\u001b[0m\u001b[1;33m(\u001b[0m\u001b[0mx\u001b[0m \u001b[1;33m-\u001b[0m \u001b[0mwidth\u001b[0m\u001b[1;33m*\u001b[0m\u001b[1;36m2\u001b[0m\u001b[1;33m,\u001b[0m \u001b[0mdf\u001b[0m\u001b[1;33m.\u001b[0m\u001b[0mMáquina\u001b[0m\u001b[1;33m.\u001b[0m\u001b[0mcount_values\u001b[0m\u001b[1;33m,\u001b[0m \u001b[0mwidth\u001b[0m\u001b[1;33m=\u001b[0m\u001b[0mwidth\u001b[0m\u001b[1;33m,\u001b[0m \u001b[0mlabel\u001b[0m\u001b[1;33m=\u001b[0m\u001b[1;34m'K-means'\u001b[0m\u001b[1;33m,\u001b[0m \u001b[0malign\u001b[0m\u001b[1;33m=\u001b[0m\u001b[1;34m'center'\u001b[0m\u001b[1;33m)\u001b[0m\u001b[1;33m\u001b[0m\u001b[1;33m\u001b[0m\u001b[0m\n\u001b[0m\u001b[0;32m      6\u001b[0m \u001b[0mmaq2\u001b[0m \u001b[1;33m=\u001b[0m \u001b[0max\u001b[0m\u001b[1;33m.\u001b[0m\u001b[0mbar\u001b[0m\u001b[1;33m(\u001b[0m\u001b[0mx\u001b[0m \u001b[1;33m-\u001b[0m \u001b[0mwidth\u001b[0m\u001b[1;33m,\u001b[0m \u001b[0mcount_kmedoids\u001b[0m\u001b[1;33m,\u001b[0m \u001b[0mwidth\u001b[0m\u001b[1;33m=\u001b[0m\u001b[0mwidth\u001b[0m\u001b[1;33m,\u001b[0m \u001b[0mlabel\u001b[0m\u001b[1;33m=\u001b[0m\u001b[1;34m'K-medoids'\u001b[0m\u001b[1;33m,\u001b[0m \u001b[0malign\u001b[0m\u001b[1;33m=\u001b[0m\u001b[1;34m'center'\u001b[0m\u001b[1;33m)\u001b[0m\u001b[1;33m\u001b[0m\u001b[1;33m\u001b[0m\u001b[0m\n\u001b[0;32m      7\u001b[0m \u001b[0mmaq3\u001b[0m \u001b[1;33m=\u001b[0m \u001b[0max\u001b[0m\u001b[1;33m.\u001b[0m\u001b[0mbar\u001b[0m\u001b[1;33m(\u001b[0m\u001b[0mx\u001b[0m \u001b[1;33m+\u001b[0m \u001b[0mwidth\u001b[0m\u001b[1;33m,\u001b[0m \u001b[0mcount_hierarquico\u001b[0m\u001b[1;33m,\u001b[0m \u001b[0mwidth\u001b[0m\u001b[1;33m=\u001b[0m\u001b[0mwidth\u001b[0m\u001b[1;33m,\u001b[0m \u001b[0mlabel\u001b[0m\u001b[1;33m=\u001b[0m\u001b[1;34m'Hierarquico'\u001b[0m\u001b[1;33m,\u001b[0m \u001b[0malign\u001b[0m\u001b[1;33m=\u001b[0m\u001b[1;34m'center'\u001b[0m\u001b[1;33m)\u001b[0m\u001b[1;33m\u001b[0m\u001b[1;33m\u001b[0m\u001b[0m\n",
      "\u001b[1;32mC:\\ProgramData\\Anaconda3\\lib\\site-packages\\pandas\\core\\generic.py\u001b[0m in \u001b[0;36m__getattr__\u001b[1;34m(self, name)\u001b[0m\n\u001b[0;32m   5272\u001b[0m             \u001b[1;32mif\u001b[0m \u001b[0mself\u001b[0m\u001b[1;33m.\u001b[0m\u001b[0m_info_axis\u001b[0m\u001b[1;33m.\u001b[0m\u001b[0m_can_hold_identifiers_and_holds_name\u001b[0m\u001b[1;33m(\u001b[0m\u001b[0mname\u001b[0m\u001b[1;33m)\u001b[0m\u001b[1;33m:\u001b[0m\u001b[1;33m\u001b[0m\u001b[1;33m\u001b[0m\u001b[0m\n\u001b[0;32m   5273\u001b[0m                 \u001b[1;32mreturn\u001b[0m \u001b[0mself\u001b[0m\u001b[1;33m[\u001b[0m\u001b[0mname\u001b[0m\u001b[1;33m]\u001b[0m\u001b[1;33m\u001b[0m\u001b[1;33m\u001b[0m\u001b[0m\n\u001b[1;32m-> 5274\u001b[1;33m             \u001b[1;32mreturn\u001b[0m \u001b[0mobject\u001b[0m\u001b[1;33m.\u001b[0m\u001b[0m__getattribute__\u001b[0m\u001b[1;33m(\u001b[0m\u001b[0mself\u001b[0m\u001b[1;33m,\u001b[0m \u001b[0mname\u001b[0m\u001b[1;33m)\u001b[0m\u001b[1;33m\u001b[0m\u001b[1;33m\u001b[0m\u001b[0m\n\u001b[0m\u001b[0;32m   5275\u001b[0m \u001b[1;33m\u001b[0m\u001b[0m\n\u001b[0;32m   5276\u001b[0m     \u001b[1;32mdef\u001b[0m \u001b[0m__setattr__\u001b[0m\u001b[1;33m(\u001b[0m\u001b[0mself\u001b[0m\u001b[1;33m,\u001b[0m \u001b[0mname\u001b[0m\u001b[1;33m:\u001b[0m \u001b[0mstr\u001b[0m\u001b[1;33m,\u001b[0m \u001b[0mvalue\u001b[0m\u001b[1;33m)\u001b[0m \u001b[1;33m->\u001b[0m \u001b[1;32mNone\u001b[0m\u001b[1;33m:\u001b[0m\u001b[1;33m\u001b[0m\u001b[1;33m\u001b[0m\u001b[0m\n",
      "\u001b[1;31mAttributeError\u001b[0m: 'Series' object has no attribute 'count_values'"
     ]
    },
    {
     "data": {
      "image/png": "[encoded data removed]",
      "text/plain": [
       "<Figure size 864x864 with 1 Axes>"
      ]
     },
     "metadata": {
      "needs_background": "light"
     },
     "output_type": "display_data"
    }
   ],
   "source": [
    "width = 0.1\n",
    "x = np.arange(len(df))\n",
    "\n",
    "fig, ax = plt.subplots(figsize=(12,12))\n",
    "maq1 = ax.bar(x - width*2, df.Máquina.count_values, width=width, label='K-means', align='center')\n",
    "maq2 = ax.bar(x - width, count_kmedoids, width=width, label='K-medoids', align='center')\n",
    "maq3 = ax.bar(x + width, count_hierarquico, width=width, label='Hierarquico', align='center')\n",
    "maq4 = ax.bar(x + width*2, count_kmeans, width=width, label='K-means', align='center')\n",
    "\n",
    "# Add some text for labels, title and custom x-axis tick labels, etc.\n",
    "ax.set_ylabel('Quantidade')\n",
    "ax.set_title('Comparativo de diâmetros entre algoritmos')\n",
    "ax.set_xticks(x)\n",
    "ax.set_xticklabels(diameters)\n",
    "ax.set_xlabel('Diâmetro nominal (mm)')\n",
    "ax.legend()\n",
    "\n",
    "\n",
    "def autolabel(rects):\n",
    "    for rect in rects:\n",
    "        height = rect.get_height()\n",
    "        ax.annotate('{}'.format(height),\n",
    "                  xy=(rect.get_x() + rect.get_width() / 2, height),\n",
    "                  xytext=(0, 3),  # 3 points vertical offset\n",
    "                  textcoords=\"offset points\",\n",
    "                  ha='center', va='bottom')\n",
    "\n",
    "\n",
    "autolabel(rects1)\n",
    "autolabel(rects2)\n",
    "autolabel(rects3)\n",
    "\n",
    "fig.tight_layout()\n",
    "\n",
    "plt.show()"
   ]
  },
  {
   "cell_type": "code",
   "execution_count": 17,
   "metadata": {},
   "outputs": [
    {
     "data": {
      "image/png": "[encoded data removed]",
      "text/plain": [
       "<Figure size 1152x288 with 4 Axes>"
      ]
     },
     "metadata": {
      "needs_background": "light"
     },
     "output_type": "display_data"
    }
   ],
   "source": [
    "from scipy import stats\n",
    "def quantile_plot(x, **kwargs):\n",
    "    quantiles, xr = stats.probplot(x, fit=False)\n",
    "    plt.scatter(xr, quantiles, **kwargs)\n",
    "\n",
    "g = sns.FacetGrid(df, col=\"Máquina\", height=4)\n",
    "g.map(quantile_plot, \"Setup (hora)\")\n",
    "plt.savefig(\"Imagens\\Distribuição de setups.png\")"
   ]
  },
  {
   "cell_type": "code",
   "execution_count": 18,
   "metadata": {},
   "outputs": [
    {
     "data": {
      "image/png": "[encoded data removed]",
      "text/plain": [
       "<Figure size 432x288 with 1 Axes>"
      ]
     },
     "metadata": {
      "needs_background": "light"
     },
     "output_type": "display_data"
    }
   ],
   "source": [
    "g = sns.boxplot(x=\"Máquina\", y=\"Setup (hora)\", data=df, palette=\"deep\")\n",
    "plt.savefig(\"Imagens\\Distribuição de setups.png\")"
   ]
  },
  {
   "cell_type": "code",
   "execution_count": 19,
   "metadata": {},
   "outputs": [
    {
     "data": {
      "image/png": "[encoded data removed]",
      "text/plain": [
       "<Figure size 1275.12x288 with 4 Axes>"
      ]
     },
     "metadata": {
      "needs_background": "light"
     },
     "output_type": "display_data"
    }
   ],
   "source": [
    "def qqplot(x, y, **kwargs):\n",
    "    _, xr = stats.probplot(x, fit=False)\n",
    "    _, yr = stats.probplot(y, fit=False)\n",
    "    plt.scatter(xr, yr, **kwargs)\n",
    "    \n",
    "g = sns.FacetGrid(df, hue=\"VELOCIDADE (Kg/Hora)\", col=\"Máquina\", height=4)\n",
    "g.map(qqplot, \"VELOCIDADE (Kg/Hora)\", \"Setup (hora)\")\n",
    "g.add_legend()\n",
    "plt.savefig(\"Imagens\\Correção entre Máquina-velocidade-setup.png\")"
   ]
  },
  {
   "cell_type": "code",
   "execution_count": 20,
   "metadata": {},
   "outputs": [
    {
     "data": {
      "image/png": "[encoded data removed]",
      "text/plain": [
       "<Figure size 1152x288 with 4 Axes>"
      ]
     },
     "metadata": {
      "needs_background": "light"
     },
     "output_type": "display_data"
    }
   ],
   "source": [
    "def qqplot(x, y, **kwargs):\n",
    "    _, xr = stats.probplot(x, fit=False)\n",
    "    _, yr = stats.probplot(y, fit=False)\n",
    "    plt.scatter(xr, yr, **kwargs)\n",
    "    \n",
    "g = sns.FacetGrid(df, hue=\"VELOCIDADE (Kg/Hora)\", col=\"Máquina\", height=4)\n",
    "g.map(qqplot, \"VELOCIDADE (Kg/Hora)\", \"µm\")\n",
    "#g.add_legend()\n",
    "plt.savefig(\"Imagens\\Correção entre Máquina-velocidade-espessura.png\")"
   ]
  },
  {
   "cell_type": "code",
   "execution_count": 21,
   "metadata": {},
   "outputs": [
    {
     "ename": "AttributeError",
     "evalue": "module 'seaborn' has no attribute 'set_theme'",
     "output_type": "error",
     "traceback": [
      "\u001b[1;31m---------------------------------------------------------------------------\u001b[0m",
      "\u001b[1;31mAttributeError\u001b[0m                            Traceback (most recent call last)",
      "\u001b[1;32m<ipython-input-21-5dd9415bde55>\u001b[0m in \u001b[0;36m<module>\u001b[1;34m\u001b[0m\n\u001b[0;32m      1\u001b[0m \u001b[0mplt\u001b[0m\u001b[1;33m.\u001b[0m\u001b[0mfigure\u001b[0m\u001b[1;33m(\u001b[0m\u001b[0mfigsize\u001b[0m\u001b[1;33m=\u001b[0m\u001b[1;33m(\u001b[0m\u001b[1;36m12\u001b[0m\u001b[1;33m,\u001b[0m\u001b[1;36m6\u001b[0m\u001b[1;33m)\u001b[0m\u001b[1;33m)\u001b[0m\u001b[1;33m\u001b[0m\u001b[1;33m\u001b[0m\u001b[0m\n\u001b[0;32m      2\u001b[0m \u001b[1;33m\u001b[0m\u001b[0m\n\u001b[1;32m----> 3\u001b[1;33m \u001b[0msns\u001b[0m\u001b[1;33m.\u001b[0m\u001b[0mset_theme\u001b[0m\u001b[1;33m(\u001b[0m\u001b[0mstyle\u001b[0m\u001b[1;33m=\u001b[0m\u001b[1;34m\"whitegrid\"\u001b[0m\u001b[1;33m,\u001b[0m \u001b[0mpalette\u001b[0m\u001b[1;33m=\u001b[0m\u001b[1;34m\"muted\"\u001b[0m\u001b[1;33m)\u001b[0m\u001b[1;33m\u001b[0m\u001b[1;33m\u001b[0m\u001b[0m\n\u001b[0m\u001b[0;32m      4\u001b[0m \u001b[1;33m\u001b[0m\u001b[0m\n\u001b[0;32m      5\u001b[0m \u001b[1;31m# Draw a categorical scatterplot to show each observation\u001b[0m\u001b[1;33m\u001b[0m\u001b[1;33m\u001b[0m\u001b[1;33m\u001b[0m\u001b[0m\n",
      "\u001b[1;31mAttributeError\u001b[0m: module 'seaborn' has no attribute 'set_theme'"
     ]
    },
    {
     "data": {
      "text/plain": [
       "<Figure size 864x432 with 0 Axes>"
      ]
     },
     "metadata": {},
     "output_type": "display_data"
    }
   ],
   "source": [
    "plt.figure(figsize=(12,6))\n",
    "\n",
    "sns.set_theme(style=\"whitegrid\", palette=\"muted\")\n",
    "\n",
    "# Draw a categorical scatterplot to show each observation\n",
    "ax = sns.swarmplot(data=df, x=\"Máquina\", y=\"µm\", hue=\"FILME\")\n",
    "ax.set(ylabel=\"Espessura\")\n",
    "ax.set(xlabel=\"Máquina\")\n",
    "\n",
    "plt.legend()\n",
    "plt.savefig(\"Imagens\\Correlação entre Máquina-espessura-Material.png\")"
   ]
  },
  {
   "cell_type": "code",
   "execution_count": null,
   "metadata": {},
   "outputs": [],
   "source": [
    "g = sns.boxplot(x=\"Máquina\", y=\"µm\", hue=\"FILME\", data=df, palette=\"deep\")\n",
    "g = sns.swarmplot(x=\"Máquina\", y=\"µm\", data=df, palette=\"deep\", color=\".25\")\n",
    "#plt.savefig(\"Imagens\\Distribuição de setups.png\")"
   ]
  },
  {
   "cell_type": "code",
   "execution_count": 23,
   "metadata": {},
   "outputs": [
    {
     "ename": "AttributeError",
     "evalue": "module 'seaborn' has no attribute 'set_theme'",
     "output_type": "error",
     "traceback": [
      "\u001b[1;31m---------------------------------------------------------------------------\u001b[0m",
      "\u001b[1;31mAttributeError\u001b[0m                            Traceback (most recent call last)",
      "\u001b[1;32m<ipython-input-23-1b0c0b283dc7>\u001b[0m in \u001b[0;36m<module>\u001b[1;34m\u001b[0m\n\u001b[0;32m      1\u001b[0m \u001b[0mplt\u001b[0m\u001b[1;33m.\u001b[0m\u001b[0mfigure\u001b[0m\u001b[1;33m(\u001b[0m\u001b[0mfigsize\u001b[0m\u001b[1;33m=\u001b[0m\u001b[1;33m(\u001b[0m\u001b[1;36m12\u001b[0m\u001b[1;33m,\u001b[0m\u001b[1;36m6\u001b[0m\u001b[1;33m)\u001b[0m\u001b[1;33m)\u001b[0m\u001b[1;33m\u001b[0m\u001b[1;33m\u001b[0m\u001b[0m\n\u001b[0;32m      2\u001b[0m \u001b[1;33m\u001b[0m\u001b[0m\n\u001b[1;32m----> 3\u001b[1;33m \u001b[0msns\u001b[0m\u001b[1;33m.\u001b[0m\u001b[0mset_theme\u001b[0m\u001b[1;33m(\u001b[0m\u001b[0mstyle\u001b[0m\u001b[1;33m=\u001b[0m\u001b[1;34m\"whitegrid\"\u001b[0m\u001b[1;33m,\u001b[0m \u001b[0mpalette\u001b[0m\u001b[1;33m=\u001b[0m\u001b[1;34m\"muted\"\u001b[0m\u001b[1;33m)\u001b[0m\u001b[1;33m\u001b[0m\u001b[1;33m\u001b[0m\u001b[0m\n\u001b[0m\u001b[0;32m      4\u001b[0m \u001b[1;33m\u001b[0m\u001b[0m\n\u001b[0;32m      5\u001b[0m \u001b[1;31m# Draw a categorical scatterplot to show each observation\u001b[0m\u001b[1;33m\u001b[0m\u001b[1;33m\u001b[0m\u001b[1;33m\u001b[0m\u001b[0m\n",
      "\u001b[1;31mAttributeError\u001b[0m: module 'seaborn' has no attribute 'set_theme'"
     ]
    },
    {
     "data": {
      "text/plain": [
       "<Figure size 864x432 with 0 Axes>"
      ]
     },
     "metadata": {},
     "output_type": "display_data"
    }
   ],
   "source": [
    "plt.figure(figsize=(12,6))\n",
    "\n",
    "sns.set_theme(style=\"whitegrid\", palette=\"muted\")\n",
    "\n",
    "# Draw a categorical scatterplot to show each observation\n",
    "ax = sns.swarmplot(data=df, x=\"Setup (hora)\", y=\"VELOCIDADE (Kg/Hora)\", hue=\"FILME\")\n",
    "ax.set(ylabel=\"Velocidade\")\n",
    "ax.set(xlabel=\"Setup\")\n",
    "\n",
    "plt.legend()\n",
    "plt.savefig(\"Correlação entre Velocidade-setup-Material.png\")\n",
    "plt.show()"
   ]
  },
  {
   "cell_type": "markdown",
   "metadata": {},
   "source": [
    "# Mineração de dados"
   ]
  },
  {
   "cell_type": "code",
   "execution_count": 24,
   "metadata": {},
   "outputs": [],
   "source": [
    "# identificação da menor taxa de erro\n",
    "def buscarMenor(lst):\n",
    "    i = float(\"inf\")\n",
    "    for nr in lst:\n",
    "        if nr < i:\n",
    "            i = nr\n",
    "            c = lst.index(nr)\n",
    "    return c + 1"
   ]
  },
  {
   "cell_type": "code",
   "execution_count": null,
   "metadata": {},
   "outputs": [],
   "source": []
  },
  {
   "cell_type": "code",
   "execution_count": 25,
   "metadata": {},
   "outputs": [],
   "source": [
    "def min(matriz):\n",
    "    menor = matriz[0][0]\n",
    "    for r in range(len(matriz)):\n",
    "        nums = matriz[r]\n",
    "        for n in nums:\n",
    "            menor = n if menor > n else menor\n",
    "            c = matriz.index(n)\n",
    "            d = r\n",
    "    return c, d"
   ]
  },
  {
   "cell_type": "code",
   "execution_count": 26,
   "metadata": {},
   "outputs": [],
   "source": [
    "# Divisão dos dados\n",
    "X = df.iloc[: , [0,1,2,3,4,5,6,8,9]].values\n",
    "y = df['VELOCIDADE (Kg/Hora)']"
   ]
  },
  {
   "cell_type": "code",
   "execution_count": 27,
   "metadata": {
    "scrolled": true
   },
   "outputs": [
    {
     "data": {
      "text/plain": [
       "array([7, 'Material 01', 200, 1, 'Cor 01', 'Máquina 01', 'Centro 01',\n",
       "       0.362, 3.25], dtype=object)"
      ]
     },
     "execution_count": 27,
     "metadata": {},
     "output_type": "execute_result"
    }
   ],
   "source": [
    "X[1]"
   ]
  },
  {
   "cell_type": "code",
   "execution_count": 28,
   "metadata": {},
   "outputs": [],
   "source": [
    "labelencoder = LabelEncoder()\n",
    "X[:, 1] = labelencoder.fit_transform(X[:, 1])\n",
    "X[:, 4] = labelencoder.fit_transform(X[:, 4])\n",
    "X[:, 5] = labelencoder.fit_transform(X[:, 5])\n",
    "X[:, 6] = labelencoder.fit_transform(X[:, 6])"
   ]
  },
  {
   "cell_type": "code",
   "execution_count": 29,
   "metadata": {},
   "outputs": [],
   "source": [
    "onehotencoder = ColumnTransformer(transformers=[(\"OneHot\", OneHotEncoder(), [1,4,6,7])],remainder='passthrough')\n",
    "X = onehotencoder.fit_transform(X)"
   ]
  },
  {
   "cell_type": "code",
   "execution_count": 30,
   "metadata": {},
   "outputs": [],
   "source": [
    "#y = pd.DataFrame(y)\n",
    "normalizador = MinMaxScaler(feature_range= (0,1))\n",
    "X = normalizador.fit_transform(X)\n",
    "#y = normalizador.fit_transform(y)\n",
    "#y = pd.DataFrame(y)"
   ]
  },
  {
   "cell_type": "code",
   "execution_count": 31,
   "metadata": {},
   "outputs": [],
   "source": [
    "X = pd.DataFrame(X)"
   ]
  },
  {
   "cell_type": "code",
   "execution_count": 32,
   "metadata": {},
   "outputs": [],
   "source": [
    "#Algoritmo de repetição para análise de métodos de classificação\n",
    "def testeMaquina(metEsc):\n",
    "    i = 0\n",
    "    classi_analise = []\n",
    "    #confu_analise_test = []\n",
    "    #confu_analise_train = []\n",
    "    # Laço de 10 repetições para retirar média dos testes\n",
    "    for i in range (0,100):\n",
    "        X_train, X_test, y_train, y_test = train_test_split(X, y, test_size=0.3, random_state=i)\n",
    "        #scaler = StandardScaler()\n",
    "        #X_train_pad = scaler.fit_transform(X_train)\n",
    "        #X_test_pad = scaler.fit_transform(X_test)\n",
    "        logmodel = metEsc\n",
    "        logmodel.fit(X_train, y_train)\n",
    "        #predição\n",
    "        predictions = logmodel.predict(X_test)\n",
    "        predictions2 = logmodel.predict(X_train)\n",
    "        #imprimindo classificação\n",
    "        classi_analise.append(accuracy_score(y_test,predictions))\n",
    "        classi_analise.append(accuracy_score(y_train,predictions2))\n",
    "        classi_analise.append(precision_score(y_test,predictions, average='weighted'))\n",
    "        classi_analise.append(precision_score(y_train,predictions2, average='weighted'))\n",
    "        classi_analise.append(f1_score(y_test,predictions, average='weighted'))\n",
    "        classi_analise.append(f1_score(y_train,predictions2, average='weighted'))\n",
    "        #confu_analise_test.append(confusion_matrix(y_test,predictions))\n",
    "        #confu_analise_train.append(confusion_matrix(y_train,predictions2))\n",
    "        \n",
    "    i =+ 1\n",
    "    \n",
    "    # Reformulando os dados e remodelando\n",
    "    classi_analise = pd.DataFrame(data=np.reshape(classi_analise, (100, 6)), index=None,\n",
    "                                  columns=['Acuracia_Teste', 'Acuracia_Treino', 'Precisao_Teste',\n",
    "                                           'Precisao_Treino','F1_Teste', 'F1_Treino'])\n",
    "    #confu_analise_test = pd.DataFrame(data=np.reshape(confu_analise_test, (100, 1)), index=None, columns=None)\n",
    "    #confu_analise_train = pd.DataFrame(data=np.reshape(confu_analise_train, (100, 256)), index=None, columns=None)\n",
    "    \n",
    "    # Exportando dados para análise\n",
    "    classi_analise.to_csv('Relatorio/Classificacao/classification_report_{}.csv'.format(str(metEsc)), index=False)\n",
    "    #confu_analise_test.to_csv('Relatorio/PCA/confusion_matrix_test_{}.csv'.format(str(metEsc)), index=False)\n",
    "    #confu_analise_train.to_csv('Relatorio/PCA/confusion_matrix_train{}.csv'.format(str(metEsc)), index=False)\n",
    "    \n",
    "    # reset dos valores\n",
    "    classi_analise = []\n",
    "    #confu_analise_test = []\n",
    "    #confu_analise_train = []"
   ]
  },
  {
   "cell_type": "code",
   "execution_count": null,
   "metadata": {},
   "outputs": [],
   "source": []
  },
  {
   "cell_type": "markdown",
   "metadata": {},
   "source": [
    "## Técnicas de Classificação"
   ]
  },
  {
   "cell_type": "markdown",
   "metadata": {},
   "source": [
    "Naive Bayes"
   ]
  },
  {
   "cell_type": "code",
   "execution_count": 33,
   "metadata": {},
   "outputs": [],
   "source": [
    "#Importando o método de RL\n",
    "from sklearn.naive_bayes import BernoulliNB"
   ]
  },
  {
   "cell_type": "code",
   "execution_count": 34,
   "metadata": {},
   "outputs": [],
   "source": [
    "metEsc = BernoulliNB()\n",
    "testeMaquina(metEsc)"
   ]
  },
  {
   "cell_type": "markdown",
   "metadata": {},
   "source": [
    "Regressão Logistica"
   ]
  },
  {
   "cell_type": "code",
   "execution_count": 35,
   "metadata": {},
   "outputs": [],
   "source": [
    "#Importando o método de RL\n",
    "from sklearn.linear_model import LogisticRegression"
   ]
  },
  {
   "cell_type": "code",
   "execution_count": 36,
   "metadata": {},
   "outputs": [],
   "source": [
    "metEsc = LogisticRegression()\n",
    "testeMaquina(metEsc)"
   ]
  },
  {
   "cell_type": "markdown",
   "metadata": {},
   "source": [
    "KNN"
   ]
  },
  {
   "cell_type": "code",
   "execution_count": 37,
   "metadata": {},
   "outputs": [],
   "source": [
    "#Importando o método KNN\n",
    "from sklearn.neighbors import KNeighborsClassifier"
   ]
  },
  {
   "cell_type": "code",
   "execution_count": 38,
   "metadata": {},
   "outputs": [
    {
     "name": "stdout",
     "output_type": "stream",
     "text": [
      "random_state:  40 \n",
      " n_neighbors:  1\n"
     ]
    }
   ],
   "source": [
    "#criação de conjunto vazio\n",
    "error_rate = []\n",
    "\n",
    "#Tamanho do laço for para testes\n",
    "k = 30\n",
    "t = 100\n",
    "\n",
    "for j in range(1, t+1):\n",
    "    X_train, X_test, y_train, y_test = train_test_split(X, y, test_size=0.3, random_state=j)\n",
    "    #scaler = StandardScaler()\n",
    "    #X_train_pad = scaler.fit_transform(X_train)\n",
    "    #X_test_pad = scaler.fit_transform(X_test)\n",
    "    #criação de laço for, para definir melhor número de vizinhos\n",
    "    for i in range(1,k+1):\n",
    "        knn = KNeighborsClassifier(n_neighbors=i)\n",
    "        knn.fit(X_train, y_train)\n",
    "        pred = knn.predict(X_test)\n",
    "        error_rate.append(np.mean(pred != y_test))\n",
    "\n",
    "valor_menor = buscarMenor(error_rate)\n",
    "print(\"random_state: \", int((valor_menor-1)/k), '\\n', 'n_neighbors: ', ((valor_menor-1)%k)+1)\n",
    "menor = ((valor_menor-1)%k)+1"
   ]
  },
  {
   "cell_type": "code",
   "execution_count": 39,
   "metadata": {},
   "outputs": [],
   "source": [
    "#sem definição de número de visinhos\n",
    "metEsc = KNeighborsClassifier()\n",
    "testeMaquina(metEsc)\n",
    "\n",
    "i = 0\n",
    "classi_analise = []\n",
    "#confu_analise_test = []\n",
    "#confu_analise_train = []\n",
    "# Laço de 10 repetições para retirar média dos testes\n",
    "for i in range (0,100):\n",
    "    X_train, X_test, y_train, y_test = train_test_split(X, y, test_size=0.3, random_state=40)\n",
    "    #scaler = StandardScaler()\n",
    "    #X_train_pad = scaler.fit_transform(X_train)\n",
    "    #X_test_pad = scaler.fit_transform(X_test)\n",
    "    knn = KNeighborsClassifier(n_neighbors=1)\n",
    "    knn.fit(X_train, y_train)\n",
    "    #predição\n",
    "    predictions = knn.predict(X_test)\n",
    "    predictions2 = knn.predict(X_train)\n",
    "    #imprimindo classificação\n",
    "    classi_analise.append(accuracy_score(y_test,predictions))\n",
    "    classi_analise.append(accuracy_score(y_train,predictions2))\n",
    "    classi_analise.append(precision_score(y_test,predictions, average='weighted'))\n",
    "    classi_analise.append(precision_score(y_train,predictions2, average='weighted'))\n",
    "    classi_analise.append(f1_score(y_test,predictions, average='weighted'))\n",
    "    classi_analise.append(f1_score(y_train,predictions2, average='weighted'))\n",
    "        \n",
    "i =+ 1\n",
    "    \n",
    "# Reformulando os dados e remodelando\n",
    "classi_analise = pd.DataFrame(data=np.reshape(classi_analise, (100, 6)), index=None,\n",
    "                                  columns=['Acuracia_Teste', 'Acuracia_Treino', 'Precisao_Teste',\n",
    "                                           'Precisao_Treino','F1_Teste', 'F1_Treino'])\n",
    "# Exportando dados para análise\n",
    "classi_analise.to_csv('Relatorio/Classificacao/classification_report_KNeighborsClassifier(n_neighbors=1).csv'.format(str(metEsc)), index=False)\n",
    "    \n",
    "# reset dos valores\n",
    "classi_analise = []"
   ]
  },
  {
   "cell_type": "markdown",
   "metadata": {},
   "source": [
    "SVM"
   ]
  },
  {
   "cell_type": "code",
   "execution_count": null,
   "metadata": {},
   "outputs": [],
   "source": [
    "#importando biblioteca\n",
    "from sklearn.svm import SVC"
   ]
  },
  {
   "cell_type": "code",
   "execution_count": null,
   "metadata": {},
   "outputs": [],
   "source": [
    "metEsc = SVC()\n",
    "testeMaquina(metEsc)"
   ]
  },
  {
   "cell_type": "code",
   "execution_count": null,
   "metadata": {},
   "outputs": [],
   "source": [
    "param_grid = {'C': [0.1,1, 10, 100, 1000], 'gamma': [1,0.1,0.01,0.001,0.0001], 'kernel': ['rbf']} "
   ]
  },
  {
   "cell_type": "code",
   "execution_count": null,
   "metadata": {},
   "outputs": [],
   "source": [
    "from sklearn.model_selection import GridSearchCV"
   ]
  },
  {
   "cell_type": "code",
   "execution_count": null,
   "metadata": {},
   "outputs": [],
   "source": [
    "grid = GridSearchCV(SVC(),param_grid,refit=True,verbose=3)"
   ]
  },
  {
   "cell_type": "code",
   "execution_count": null,
   "metadata": {},
   "outputs": [],
   "source": [
    "X_train, X_test, y_train, y_test = train_test_split(X, y, test_size=0.3, random_state=0)\n",
    "#scaler = StandardScaler()\n",
    "#X_train_pad = scaler.fit_transform(X_train)\n",
    "#X_test_pad = scaler.fit_transform(X_test)\n",
    "grid.fit(X_train,y_train)"
   ]
  },
  {
   "cell_type": "code",
   "execution_count": null,
   "metadata": {},
   "outputs": [],
   "source": [
    "grid.best_params_\n",
    "c = grid.best_params_['C']\n",
    "gamma = grid.best_params_['gamma']\n",
    "kernel = grid.best_params_['kernel']"
   ]
  },
  {
   "cell_type": "code",
   "execution_count": null,
   "metadata": {},
   "outputs": [],
   "source": [
    "grid.best_estimator_"
   ]
  },
  {
   "cell_type": "code",
   "execution_count": null,
   "metadata": {},
   "outputs": [],
   "source": [
    "metEsc = SVC(C = c, gamma = gamma, kernel = kernel)\n",
    "testeMaquina(metEsc)"
   ]
  },
  {
   "cell_type": "markdown",
   "metadata": {},
   "source": [
    "Árvore de Classificação"
   ]
  },
  {
   "cell_type": "code",
   "execution_count": 40,
   "metadata": {},
   "outputs": [],
   "source": [
    "#importando biblioteca\n",
    "from sklearn.tree import DecisionTreeClassifier"
   ]
  },
  {
   "cell_type": "code",
   "execution_count": 41,
   "metadata": {},
   "outputs": [
    {
     "name": "stdout",
     "output_type": "stream",
     "text": [
      "random_state:  56 \n",
      " n_neighbors:  10\n"
     ]
    }
   ],
   "source": [
    "#criação de conjunto vazio\n",
    "error_rate = []\n",
    "\n",
    "#Tamanho do laço for para testes\n",
    "k = 30\n",
    "t = 100\n",
    "\n",
    "for j in range(1, t+1):\n",
    "    X_train, X_test, y_train, y_test = train_test_split(X, y, test_size=0.3, random_state=j)\n",
    "    #scaler = StandardScaler()\n",
    "    #X_train_pad = scaler.fit_transform(X_train)\n",
    "    #X_test_pad = scaler.fit_transform(X_test)\n",
    "    #criação de laço for, para definir melhor número de vizinhos\n",
    "    for i in range(1,k+1):\n",
    "        dectree = DecisionTreeClassifier(max_depth=i)\n",
    "        dectree.fit(X_train, y_train)\n",
    "        pred = dectree.predict(X_test)\n",
    "        error_rate.append(np.mean(pred != y_test))\n",
    "\n",
    "valor_menor = buscarMenor(error_rate)\n",
    "print(\"random_state: \", int((valor_menor-1)/k), '\\n', 'n_neighbors: ', ((valor_menor-1)%k)+1)\n",
    "menor = ((valor_menor-1)%k)+1"
   ]
  },
  {
   "cell_type": "code",
   "execution_count": 42,
   "metadata": {},
   "outputs": [],
   "source": [
    "#sem definição de profunidade dos nós\n",
    "metEsc = DecisionTreeClassifier()\n",
    "testeMaquina(metEsc)\n",
    "\n",
    "i = 0\n",
    "classi_analise = []\n",
    "# Laço de 10 repetições para retirar média dos testes\n",
    "for i in range (0,100):\n",
    "    X_train, X_test, y_train, y_test = train_test_split(X, y, test_size=0.3, random_state=25)\n",
    "    #scaler = StandardScaler()\n",
    "    #X_train_pad = scaler.fit_transform(X_train)\n",
    "    #X_test_pad = scaler.fit_transform(X_test)\n",
    "    treeClas = DecisionTreeClassifier(max_depth=11)\n",
    "    treeClas.fit(X_train, y_train)\n",
    "    #predição\n",
    "    predictions = treeClas.predict(X_test)\n",
    "    predictions2 = treeClas.predict(X_train)\n",
    "    #imprimindo classificação\n",
    "    classi_analise.append(accuracy_score(y_test,predictions))\n",
    "    classi_analise.append(accuracy_score(y_train,predictions2))\n",
    "    classi_analise.append(precision_score(y_test,predictions, average='weighted'))\n",
    "    classi_analise.append(precision_score(y_train,predictions2, average='weighted'))\n",
    "    classi_analise.append(f1_score(y_test,predictions, average='weighted'))\n",
    "    classi_analise.append(f1_score(y_train,predictions2, average='weighted'))\n",
    "        \n",
    "i =+ 1\n",
    "    \n",
    "# Reformulando os dados e remodelando\n",
    "classi_analise = pd.DataFrame(data=np.reshape(classi_analise, (100, 6)), index=None,\n",
    "                                  columns=['Acuracia_Teste', 'Acuracia_Treino', 'Precisao_Teste',\n",
    "                                           'Precisao_Treino','F1_Teste', 'F1_Treino'])\n",
    "# Exportando dados para análise\n",
    "classi_analise.to_csv('Relatorio/Classificacao/classification_report_DecisionTreeClassifier(max_depth=11).csv'.format(str(metEsc)), index=False)\n",
    "    \n",
    "# reset dos valores\n",
    "classi_analise = []"
   ]
  },
  {
   "cell_type": "markdown",
   "metadata": {},
   "source": [
    "Random Forest"
   ]
  },
  {
   "cell_type": "code",
   "execution_count": null,
   "metadata": {},
   "outputs": [],
   "source": [
    "#importando biblioteca\n",
    "from sklearn.ensemble import RandomForestClassifier"
   ]
  },
  {
   "cell_type": "code",
   "execution_count": null,
   "metadata": {},
   "outputs": [],
   "source": [
    "#criação de conjunto vazio\n",
    "error_rate = []\n",
    "\n",
    "#Tamanho do laço for para testes\n",
    "k = 30\n",
    "t = 100\n",
    "\n",
    "for j in range(1, t+1):\n",
    "    X_train, X_test, y_train, y_test = train_test_split(X, y, test_size=0.25, random_state=j)\n",
    "    #scaler = StandardScaler()\n",
    "    #X_train_pad = scaler.fit_transform(X_train)\n",
    "    #X_test_pad = scaler.fit_transform(X_test)\n",
    "    #criação de laço for, para definir melhor número de vizinhos\n",
    "    for i in range(10,310,10):\n",
    "        randfor = RandomForestClassifier(n_estimators=i)\n",
    "        randfor.fit(X_train, y_train)\n",
    "        pred = randfor.predict(X_test)\n",
    "        error_rate.append(np.mean(pred != y_test))\n",
    "\n",
    "valor_menor = buscarMenor(error_rate)\n",
    "print(\"random_state: \", int((valor_menor-1)/k), '\\n', 'n_neighbors: ', ((valor_menor-1)%k)+1)\n",
    "menor = ((valor_menor-1)%k)+1"
   ]
  },
  {
   "cell_type": "code",
   "execution_count": null,
   "metadata": {},
   "outputs": [],
   "source": [
    "#sem definição de profunidade dos nós\n",
    "metEsc = RandomForestClassifier()\n",
    "testeMaquina(metEsc)\n",
    "\n",
    "i = 0\n",
    "classi_analise = []\n",
    "#confu_analise_test = []\n",
    "#confu_analise_train = []\n",
    "# Laço de 10 repetições para retirar média dos testes\n",
    "for i in range (0,100):\n",
    "    X_train, X_test, y_train, y_test = train_test_split(X, y, test_size=0.3, random_state=7)\n",
    "    #scaler = StandardScaler()\n",
    "    #X_train_pad = scaler.fit_transform(X_train)\n",
    "    #X_test_pad = scaler.fit_transform(X_test)\n",
    "    randFore = RandomForestClassifier(n_estimators=200)\n",
    "    randFore.fit(X_train, y_train)\n",
    "    #predição\n",
    "    predictions = randFore.predict(X_test)\n",
    "    predictions2 = randFore.predict(X_train)\n",
    "    #imprimindo classificação\n",
    "    classi_analise.append(accuracy_score(y_test,predictions))\n",
    "    classi_analise.append(accuracy_score(y_train,predictions2))\n",
    "    classi_analise.append(precision_score(y_test,predictions, average='weighted'))\n",
    "    classi_analise.append(precision_score(y_train,predictions2, average='weighted'))\n",
    "    classi_analise.append(f1_score(y_test,predictions, average='weighted'))\n",
    "    classi_analise.append(f1_score(y_train,predictions2, average='weighted'))\n",
    "        \n",
    "i =+ 1\n",
    "    \n",
    "# Reformulando os dados e remodelando\n",
    "classi_analise = pd.DataFrame(data=np.reshape(classi_analise, (100, 6)), index=None,\n",
    "                                  columns=['Acuracia_Teste', 'Acuracia_Treino', 'Precisao_Teste',\n",
    "                                           'Precisao_Treino','F1_Teste', 'F1_Treino'])\n",
    "# Exportando dados para análise\n",
    "classi_analise.to_csv('Relatorio/Classificacao/classification_report_RandomForestClassifier(n_estimators=200).csv'.format(str(metEsc)), index=False)\n",
    "    \n",
    "# reset dos valores\n",
    "classi_analise = []"
   ]
  },
  {
   "cell_type": "markdown",
   "metadata": {},
   "source": [
    "ANN"
   ]
  },
  {
   "cell_type": "code",
   "execution_count": null,
   "metadata": {},
   "outputs": [],
   "source": [
    "#importando biblioteca\n",
    "from sklearn.neural_network import MLPClassifier"
   ]
  },
  {
   "cell_type": "code",
   "execution_count": null,
   "metadata": {},
   "outputs": [],
   "source": [
    "#criação de conjunto vazio\n",
    "error_rate = []\n",
    "\n",
    "#Tamanho do laço for para testes\n",
    "k = 30\n",
    "t = 100\n",
    "\n",
    "for j in range(1, t+1):\n",
    "    X_train, X_test, y_train, y_test = train_test_split(X, y, test_size=0.25, random_state=j)\n",
    "    #scaler = StandardScaler()\n",
    "    #X_train_pad = scaler.fit_transform(X_train)\n",
    "    #X_test_pad = scaler.fit_transform(X_test)\n",
    "    #criação de laço for, para definir melhor número de vizinhos\n",
    "    for i in range(2000,32000,1000):\n",
    "        ann = MLPClassifier(max_iter=i)\n",
    "        ann.fit(X_train, y_train)\n",
    "        pred = ann.predict(X_test)\n",
    "        error_rate.append(np.mean(pred != y_test))\n",
    "\n",
    "valor_menor = buscarMenor(error_rate)\n",
    "print(\"random_state: \", int((valor_menor-1)/k), '\\n', 'n_neighbors: ', ((valor_menor-1)%k)+1)\n",
    "menor = ((valor_menor-1)%k)+1"
   ]
  },
  {
   "cell_type": "code",
   "execution_count": null,
   "metadata": {},
   "outputs": [],
   "source": [
    "#sem definição de profunidade dos nós\n",
    "metEsc = MLPClassifier()\n",
    "testeMaquina(metEsc)\n",
    "\n",
    "i = 0\n",
    "classi_analise = []\n",
    "#confu_analise_test = []\n",
    "#confu_analise_train = []\n",
    "# Laço de 10 repetições para retirar média dos testes\n",
    "for i in range (0,100):\n",
    "    X_train, X_test, y_train, y_test = train_test_split(X, y, test_size=0.3, random_state=15)\n",
    "    #scaler = StandardScaler()\n",
    "    #X_train_pad = scaler.fit_transform(X_train)\n",
    "    #X_test_pad = scaler.fit_transform(X_test)\n",
    "    ann = MLPClassifier(max_iter=16000)\n",
    "    ann.fit(X_train, y_train)\n",
    "    #predição\n",
    "    predictions = ann.predict(X_test)\n",
    "    predictions2 = ann.predict(X_train)\n",
    "    #imprimindo classificação\n",
    "    classi_analise.append(accuracy_score(y_test,predictions))\n",
    "    classi_analise.append(accuracy_score(y_train,predictions2))\n",
    "    classi_analise.append(precision_score(y_test,predictions, average='weighted'))\n",
    "    classi_analise.append(precision_score(y_train,predictions2, average='weighted'))\n",
    "    classi_analise.append(f1_score(y_test,predictions, average='weighted'))\n",
    "    classi_analise.append(f1_score(y_train,predictions2, average='weighted'))\n",
    "        \n",
    "i =+ 1\n",
    "    \n",
    "# Reformulando os dados e remodelando\n",
    "classi_analise = pd.DataFrame(data=np.reshape(classi_analise, (100, 6)), index=None,\n",
    "                                  columns=['Acuracia_Teste', 'Acuracia_Treino', 'Precisao_Teste',\n",
    "                                           'Precisao_Treino','F1_Teste', 'F1_Treino'])\n",
    "# Exportando dados para análise\n",
    "classi_analise.to_csv('Relatorio/Classificacao/classification_report_MLPClassifier(max_iter=16000).csv'.format(str(metEsc)), index=False)\n",
    "    \n",
    "# reset dos valores\n",
    "classi_analise = []"
   ]
  },
  {
   "cell_type": "markdown",
   "metadata": {},
   "source": [
    "## Técnicas de Regressão"
   ]
  },
  {
   "cell_type": "code",
   "execution_count": 33,
   "metadata": {},
   "outputs": [],
   "source": [
    "#Algoritmo de repetição para análise de métodos de classificação\n",
    "def testeMaquinaReg(metEsc):\n",
    "    i = 0\n",
    "    regress_analise = []\n",
    "    predi_teste=[]\n",
    "    predi_treino=[]\n",
    "    y_teste=[]\n",
    "    y_treino=[]\n",
    "    # Laço de 10 repetições para retirar média dos testes\n",
    "    for i in range (0,100):\n",
    "        X_train, X_test, y_train, y_test = train_test_split(X, y, test_size=0.3, random_state=i)\n",
    "        #scaler = StandardScaler()\n",
    "        #X_train_pad = scaler.fit_transform(X_train)\n",
    "        #X_test_pad = scaler.fit_transform(X_test)\n",
    "        logmodel = metEsc\n",
    "        logmodel.fit(X_train, y_train)\n",
    "        score = logmodel.score(X_train, y_train)\n",
    "        #predição\n",
    "        predictions = logmodel.predict(X_test)\n",
    "        predictions2 = logmodel.predict(X_train)\n",
    "        \n",
    "        #imprimindo classificação\n",
    "        predi_teste.append(predictions)\n",
    "        predi_treino.append(predictions2)\n",
    "        y_test = pd.DataFrame(data=y_test)\n",
    "        y_teste.append(y_test)\n",
    "        y_train = pd.DataFrame(data=y_train)\n",
    "        y_treino.append(y_train)\n",
    "        regress_analise.append(logmodel.score(X_test, y_test))\n",
    "        regress_analise.append(mean_absolute_error(y_test,predictions))\n",
    "        regress_analise.append(mean_absolute_error(y_train,predictions2))\n",
    "        regress_analise.append(mean_squared_error(y_test,predictions))\n",
    "        regress_analise.append(mean_squared_error(y_train,predictions2))\n",
    "        regress_analise.append(r2_score(y_test,predictions))\n",
    "        regress_analise.append(r2_score(y_train,predictions2))\n",
    "        regress_analise.append(mean_absolute_percentage_error(y_test,predictions))\n",
    "        regress_analise.append(mean_absolute_percentage_error(y_train,predictions2))\n",
    "        \n",
    "    i =+ 1\n",
    "    \n",
    "    # Reformulando os dados e remodelando\n",
    "    regress_analise = pd.DataFrame(data=np.reshape(regress_analise, (100, 9)), index=None,\n",
    "                                  columns=['Score', 'MAE_Teste', 'MAE_Treino', 'MSE_Teste', 'MSE_Treino', 'R2_Teste', 'R2_Treino', 'MAPE_Teste', 'MAPE_Treino'])\n",
    "    predi_teste = pd.DataFrame(data=predi_teste)\n",
    "    predi_treino = pd.DataFrame(data=predi_treino)\n",
    "    y_teste = pd.DataFrame(data=np.reshape(y_teste, (100, 227)), index=None)\n",
    "    y_treino = pd.DataFrame(data=np.reshape(y_treino, (100, 529)), index=None)\n",
    "    \n",
    "    # Exportando dados para análise\n",
    "    regress_analise.to_csv('Relatorio/Regressao/regression_report_{}.csv'.format(str(metEsc)), index=False)\n",
    "    predi_teste.to_csv('Relatorio/Regressao/Avaliacao/regression_report_{}_predicaoteste.csv'.format(str(metEsc)), index=False)\n",
    "    predi_treino.to_csv('Relatorio/Regressao/Avaliacao/regression_report_{}_predicaotreino.csv'.format(str(metEsc)), index=False)\n",
    "    y_teste.to_csv('Relatorio/Regressao/Avaliacao/regression_report_{}_yteste.csv'.format(str(metEsc)), index=False)\n",
    "    y_treino.to_csv('Relatorio/Regressao/Avaliacao/regression_report_{}_ytreino.csv'.format(str(metEsc)), index=False)\n",
    "       \n",
    "    # reset dos valores\n",
    "    regress_analise = []\n",
    "    predi_teste=[]\n",
    "    predi_treino=[]\n",
    "    y_teste=[]\n",
    "    y_treino=[]"
   ]
  },
  {
   "cell_type": "markdown",
   "metadata": {},
   "source": [
    "SVR"
   ]
  },
  {
   "cell_type": "code",
   "execution_count": 34,
   "metadata": {},
   "outputs": [],
   "source": [
    "from sklearn.svm import SVR\n",
    "metEsc = SVR()\n",
    "testeMaquinaReg(metEsc)"
   ]
  },
  {
   "cell_type": "code",
   "execution_count": 35,
   "metadata": {},
   "outputs": [],
   "source": [
    "param_grid = {'C': [0.1,1, 10, 100, 1000], 'gamma': [1,0.1,0.01,0.001,0.0001], 'kernel': ['rbf']} "
   ]
  },
  {
   "cell_type": "code",
   "execution_count": 36,
   "metadata": {},
   "outputs": [],
   "source": [
    "from sklearn.model_selection import GridSearchCV\n",
    "grid = GridSearchCV(SVR(),param_grid,refit=True,verbose=3)"
   ]
  },
  {
   "cell_type": "code",
   "execution_count": 37,
   "metadata": {},
   "outputs": [
    {
     "name": "stdout",
     "output_type": "stream",
     "text": [
      "Fitting 5 folds for each of 25 candidates, totalling 125 fits\n",
      "[CV 1/5] END ........C=0.1, gamma=1, kernel=rbf;, score=0.012 total time=   0.0s\n",
      "[CV 2/5] END ........C=0.1, gamma=1, kernel=rbf;, score=0.015 total time=   0.0s\n",
      "[CV 3/5] END ........C=0.1, gamma=1, kernel=rbf;, score=0.013 total time=   0.0s\n",
      "[CV 4/5] END ........C=0.1, gamma=1, kernel=rbf;, score=0.012 total time=   0.0s\n",
      "[CV 5/5] END ........C=0.1, gamma=1, kernel=rbf;, score=0.013 total time=   0.0s\n",
      "[CV 1/5] END ......C=0.1, gamma=0.1, kernel=rbf;, score=0.031 total time=   0.0s\n",
      "[CV 2/5] END ......C=0.1, gamma=0.1, kernel=rbf;, score=0.036 total time=   0.0s\n",
      "[CV 3/5] END ......C=0.1, gamma=0.1, kernel=rbf;, score=0.032 total time=   0.0s\n",
      "[CV 4/5] END ......C=0.1, gamma=0.1, kernel=rbf;, score=0.035 total time=   0.0s\n",
      "[CV 5/5] END ......C=0.1, gamma=0.1, kernel=rbf;, score=0.034 total time=   0.0s\n",
      "[CV 1/5] END .....C=0.1, gamma=0.01, kernel=rbf;, score=0.023 total time=   0.0s\n",
      "[CV 2/5] END .....C=0.1, gamma=0.01, kernel=rbf;, score=0.025 total time=   0.0s\n",
      "[CV 3/5] END .....C=0.1, gamma=0.01, kernel=rbf;, score=0.022 total time=   0.0s\n",
      "[CV 4/5] END .....C=0.1, gamma=0.01, kernel=rbf;, score=0.026 total time=   0.0s\n",
      "[CV 5/5] END .....C=0.1, gamma=0.01, kernel=rbf;, score=0.022 total time=   0.0s\n",
      "[CV 1/5] END ....C=0.1, gamma=0.001, kernel=rbf;, score=0.003 total time=   0.0s\n",
      "[CV 2/5] END ....C=0.1, gamma=0.001, kernel=rbf;, score=0.003 total time=   0.0s\n",
      "[CV 3/5] END ....C=0.1, gamma=0.001, kernel=rbf;, score=0.003 total time=   0.0s\n",
      "[CV 4/5] END ....C=0.1, gamma=0.001, kernel=rbf;, score=0.004 total time=   0.0s\n",
      "[CV 5/5] END ....C=0.1, gamma=0.001, kernel=rbf;, score=0.002 total time=   0.0s\n",
      "[CV 1/5] END ..C=0.1, gamma=0.0001, kernel=rbf;, score=-0.000 total time=   0.0s\n",
      "[CV 2/5] END ...C=0.1, gamma=0.0001, kernel=rbf;, score=0.000 total time=   0.0s\n",
      "[CV 3/5] END ..C=0.1, gamma=0.0001, kernel=rbf;, score=-0.000 total time=   0.0s\n",
      "[CV 4/5] END ...C=0.1, gamma=0.0001, kernel=rbf;, score=0.000 total time=   0.0s\n",
      "[CV 5/5] END ..C=0.1, gamma=0.0001, kernel=rbf;, score=-0.002 total time=   0.0s\n",
      "[CV 1/5] END ..........C=1, gamma=1, kernel=rbf;, score=0.121 total time=   0.0s\n",
      "[CV 2/5] END ..........C=1, gamma=1, kernel=rbf;, score=0.138 total time=   0.0s\n",
      "[CV 3/5] END ..........C=1, gamma=1, kernel=rbf;, score=0.122 total time=   0.0s\n",
      "[CV 4/5] END ..........C=1, gamma=1, kernel=rbf;, score=0.112 total time=   0.0s\n",
      "[CV 5/5] END ..........C=1, gamma=1, kernel=rbf;, score=0.141 total time=   0.0s\n",
      "[CV 1/5] END ........C=1, gamma=0.1, kernel=rbf;, score=0.269 total time=   0.0s\n",
      "[CV 2/5] END ........C=1, gamma=0.1, kernel=rbf;, score=0.305 total time=   0.0s\n",
      "[CV 3/5] END ........C=1, gamma=0.1, kernel=rbf;, score=0.276 total time=   0.0s\n",
      "[CV 4/5] END ........C=1, gamma=0.1, kernel=rbf;, score=0.291 total time=   0.0s\n",
      "[CV 5/5] END ........C=1, gamma=0.1, kernel=rbf;, score=0.294 total time=   0.0s\n",
      "[CV 1/5] END .......C=1, gamma=0.01, kernel=rbf;, score=0.210 total time=   0.0s\n",
      "[CV 2/5] END .......C=1, gamma=0.01, kernel=rbf;, score=0.226 total time=   0.0s\n",
      "[CV 3/5] END .......C=1, gamma=0.01, kernel=rbf;, score=0.205 total time=   0.0s\n",
      "[CV 4/5] END .......C=1, gamma=0.01, kernel=rbf;, score=0.236 total time=   0.0s\n",
      "[CV 5/5] END .......C=1, gamma=0.01, kernel=rbf;, score=0.218 total time=   0.0s\n",
      "[CV 1/5] END ......C=1, gamma=0.001, kernel=rbf;, score=0.032 total time=   0.0s\n",
      "[CV 2/5] END ......C=1, gamma=0.001, kernel=rbf;, score=0.035 total time=   0.0s\n",
      "[CV 3/5] END ......C=1, gamma=0.001, kernel=rbf;, score=0.032 total time=   0.0s\n",
      "[CV 4/5] END ......C=1, gamma=0.001, kernel=rbf;, score=0.037 total time=   0.0s\n",
      "[CV 5/5] END ......C=1, gamma=0.001, kernel=rbf;, score=0.033 total time=   0.0s\n",
      "[CV 1/5] END .....C=1, gamma=0.0001, kernel=rbf;, score=0.003 total time=   0.0s\n",
      "[CV 2/5] END .....C=1, gamma=0.0001, kernel=rbf;, score=0.004 total time=   0.0s\n",
      "[CV 3/5] END .....C=1, gamma=0.0001, kernel=rbf;, score=0.003 total time=   0.0s\n",
      "[CV 4/5] END .....C=1, gamma=0.0001, kernel=rbf;, score=0.004 total time=   0.0s\n",
      "[CV 5/5] END .....C=1, gamma=0.0001, kernel=rbf;, score=0.002 total time=   0.0s\n",
      "[CV 1/5] END .........C=10, gamma=1, kernel=rbf;, score=0.642 total time=   0.0s\n",
      "[CV 2/5] END .........C=10, gamma=1, kernel=rbf;, score=0.667 total time=   0.0s\n",
      "[CV 3/5] END .........C=10, gamma=1, kernel=rbf;, score=0.589 total time=   0.0s\n",
      "[CV 4/5] END .........C=10, gamma=1, kernel=rbf;, score=0.614 total time=   0.0s\n",
      "[CV 5/5] END .........C=10, gamma=1, kernel=rbf;, score=0.708 total time=   0.0s\n",
      "[CV 1/5] END .......C=10, gamma=0.1, kernel=rbf;, score=0.740 total time=   0.0s\n",
      "[CV 2/5] END .......C=10, gamma=0.1, kernel=rbf;, score=0.708 total time=   0.0s\n",
      "[CV 3/5] END .......C=10, gamma=0.1, kernel=rbf;, score=0.695 total time=   0.0s\n",
      "[CV 4/5] END .......C=10, gamma=0.1, kernel=rbf;, score=0.713 total time=   0.0s\n",
      "[CV 5/5] END .......C=10, gamma=0.1, kernel=rbf;, score=0.724 total time=   0.0s\n",
      "[CV 1/5] END ......C=10, gamma=0.01, kernel=rbf;, score=0.634 total time=   0.0s\n",
      "[CV 2/5] END ......C=10, gamma=0.01, kernel=rbf;, score=0.592 total time=   0.0s\n",
      "[CV 3/5] END ......C=10, gamma=0.01, kernel=rbf;, score=0.628 total time=   0.0s\n",
      "[CV 4/5] END ......C=10, gamma=0.01, kernel=rbf;, score=0.636 total time=   0.0s\n",
      "[CV 5/5] END ......C=10, gamma=0.01, kernel=rbf;, score=0.616 total time=   0.0s\n",
      "[CV 1/5] END .....C=10, gamma=0.001, kernel=rbf;, score=0.289 total time=   0.0s\n",
      "[CV 2/5] END .....C=10, gamma=0.001, kernel=rbf;, score=0.301 total time=   0.0s\n",
      "[CV 3/5] END .....C=10, gamma=0.001, kernel=rbf;, score=0.279 total time=   0.0s\n",
      "[CV 4/5] END .....C=10, gamma=0.001, kernel=rbf;, score=0.316 total time=   0.0s\n",
      "[CV 5/5] END .....C=10, gamma=0.001, kernel=rbf;, score=0.302 total time=   0.0s\n",
      "[CV 1/5] END ....C=10, gamma=0.0001, kernel=rbf;, score=0.034 total time=   0.0s\n",
      "[CV 2/5] END ....C=10, gamma=0.0001, kernel=rbf;, score=0.037 total time=   0.0s\n",
      "[CV 3/5] END ....C=10, gamma=0.0001, kernel=rbf;, score=0.033 total time=   0.0s\n",
      "[CV 4/5] END ....C=10, gamma=0.0001, kernel=rbf;, score=0.038 total time=   0.0s\n",
      "[CV 5/5] END ....C=10, gamma=0.0001, kernel=rbf;, score=0.036 total time=   0.0s\n",
      "[CV 1/5] END ........C=100, gamma=1, kernel=rbf;, score=0.773 total time=   0.0s\n",
      "[CV 2/5] END ........C=100, gamma=1, kernel=rbf;, score=0.712 total time=   0.0s\n",
      "[CV 3/5] END ........C=100, gamma=1, kernel=rbf;, score=0.733 total time=   0.0s\n",
      "[CV 4/5] END ........C=100, gamma=1, kernel=rbf;, score=0.779 total time=   0.0s\n",
      "[CV 5/5] END ........C=100, gamma=1, kernel=rbf;, score=0.754 total time=   0.0s\n",
      "[CV 1/5] END ......C=100, gamma=0.1, kernel=rbf;, score=0.786 total time=   0.0s\n",
      "[CV 2/5] END ......C=100, gamma=0.1, kernel=rbf;, score=0.740 total time=   0.0s\n",
      "[CV 3/5] END ......C=100, gamma=0.1, kernel=rbf;, score=0.744 total time=   0.0s\n",
      "[CV 4/5] END ......C=100, gamma=0.1, kernel=rbf;, score=0.781 total time=   0.0s\n",
      "[CV 5/5] END ......C=100, gamma=0.1, kernel=rbf;, score=0.748 total time=   0.0s\n",
      "[CV 1/5] END .....C=100, gamma=0.01, kernel=rbf;, score=0.724 total time=   0.0s\n",
      "[CV 2/5] END .....C=100, gamma=0.01, kernel=rbf;, score=0.656 total time=   0.0s\n",
      "[CV 3/5] END .....C=100, gamma=0.01, kernel=rbf;, score=0.699 total time=   0.0s\n",
      "[CV 4/5] END .....C=100, gamma=0.01, kernel=rbf;, score=0.680 total time=   0.0s\n",
      "[CV 5/5] END .....C=100, gamma=0.01, kernel=rbf;, score=0.713 total time=   0.0s\n",
      "[CV 1/5] END ....C=100, gamma=0.001, kernel=rbf;, score=0.609 total time=   0.0s\n",
      "[CV 2/5] END ....C=100, gamma=0.001, kernel=rbf;, score=0.572 total time=   0.0s\n",
      "[CV 3/5] END ....C=100, gamma=0.001, kernel=rbf;, score=0.622 total time=   0.0s\n",
      "[CV 4/5] END ....C=100, gamma=0.001, kernel=rbf;, score=0.626 total time=   0.0s\n",
      "[CV 5/5] END ....C=100, gamma=0.001, kernel=rbf;, score=0.625 total time=   0.0s\n",
      "[CV 1/5] END ...C=100, gamma=0.0001, kernel=rbf;, score=0.300 total time=   0.0s\n",
      "[CV 2/5] END ...C=100, gamma=0.0001, kernel=rbf;, score=0.313 total time=   0.0s\n",
      "[CV 3/5] END ...C=100, gamma=0.0001, kernel=rbf;, score=0.291 total time=   0.0s\n",
      "[CV 4/5] END ...C=100, gamma=0.0001, kernel=rbf;, score=0.327 total time=   0.0s\n",
      "[CV 5/5] END ...C=100, gamma=0.0001, kernel=rbf;, score=0.320 total time=   0.0s\n",
      "[CV 1/5] END .......C=1000, gamma=1, kernel=rbf;, score=0.762 total time=   0.0s\n"
     ]
    },
    {
     "name": "stdout",
     "output_type": "stream",
     "text": [
      "[CV 2/5] END .......C=1000, gamma=1, kernel=rbf;, score=0.682 total time=   0.0s\n",
      "[CV 3/5] END .......C=1000, gamma=1, kernel=rbf;, score=0.685 total time=   0.0s\n",
      "[CV 4/5] END .......C=1000, gamma=1, kernel=rbf;, score=0.730 total time=   0.0s\n",
      "[CV 5/5] END .......C=1000, gamma=1, kernel=rbf;, score=0.705 total time=   0.0s\n",
      "[CV 1/5] END .....C=1000, gamma=0.1, kernel=rbf;, score=0.804 total time=   0.0s\n",
      "[CV 2/5] END .....C=1000, gamma=0.1, kernel=rbf;, score=0.732 total time=   0.0s\n",
      "[CV 3/5] END .....C=1000, gamma=0.1, kernel=rbf;, score=0.746 total time=   0.0s\n",
      "[CV 4/5] END .....C=1000, gamma=0.1, kernel=rbf;, score=0.753 total time=   0.0s\n",
      "[CV 5/5] END .....C=1000, gamma=0.1, kernel=rbf;, score=0.748 total time=   0.0s\n",
      "[CV 1/5] END ....C=1000, gamma=0.01, kernel=rbf;, score=0.756 total time=   0.0s\n",
      "[CV 2/5] END ....C=1000, gamma=0.01, kernel=rbf;, score=0.733 total time=   0.0s\n",
      "[CV 3/5] END ....C=1000, gamma=0.01, kernel=rbf;, score=0.698 total time=   0.0s\n",
      "[CV 4/5] END ....C=1000, gamma=0.01, kernel=rbf;, score=0.700 total time=   0.0s\n",
      "[CV 5/5] END ....C=1000, gamma=0.01, kernel=rbf;, score=0.713 total time=   0.0s\n",
      "[CV 1/5] END ...C=1000, gamma=0.001, kernel=rbf;, score=0.615 total time=   0.0s\n",
      "[CV 2/5] END ...C=1000, gamma=0.001, kernel=rbf;, score=0.585 total time=   0.0s\n",
      "[CV 3/5] END ...C=1000, gamma=0.001, kernel=rbf;, score=0.644 total time=   0.0s\n",
      "[CV 4/5] END ...C=1000, gamma=0.001, kernel=rbf;, score=0.637 total time=   0.0s\n",
      "[CV 5/5] END ...C=1000, gamma=0.001, kernel=rbf;, score=0.690 total time=   0.0s\n",
      "[CV 1/5] END ..C=1000, gamma=0.0001, kernel=rbf;, score=0.603 total time=   0.0s\n",
      "[CV 2/5] END ..C=1000, gamma=0.0001, kernel=rbf;, score=0.563 total time=   0.0s\n",
      "[CV 3/5] END ..C=1000, gamma=0.0001, kernel=rbf;, score=0.617 total time=   0.0s\n",
      "[CV 4/5] END ..C=1000, gamma=0.0001, kernel=rbf;, score=0.623 total time=   0.0s\n",
      "[CV 5/5] END ..C=1000, gamma=0.0001, kernel=rbf;, score=0.628 total time=   0.0s\n"
     ]
    },
    {
     "data": {
      "text/plain": [
       "GridSearchCV(estimator=SVR(),\n",
       "             param_grid={'C': [0.1, 1, 10, 100, 1000],\n",
       "                         'gamma': [1, 0.1, 0.01, 0.001, 0.0001],\n",
       "                         'kernel': ['rbf']},\n",
       "             verbose=3)"
      ]
     },
     "execution_count": 37,
     "metadata": {},
     "output_type": "execute_result"
    }
   ],
   "source": [
    "X_train, X_test, y_train, y_test = train_test_split(X, y, test_size=0.3, random_state=0)\n",
    "scaler = StandardScaler()\n",
    "X_train_pad = scaler.fit_transform(X_train)\n",
    "X_test_pad = scaler.fit_transform(X_test)\n",
    "grid.fit(X_train_pad,y_train)"
   ]
  },
  {
   "cell_type": "code",
   "execution_count": 38,
   "metadata": {},
   "outputs": [],
   "source": [
    "grid.best_params_\n",
    "c = grid.best_params_['C']\n",
    "gamma = grid.best_params_['gamma']\n",
    "kernel = grid.best_params_['kernel']"
   ]
  },
  {
   "cell_type": "code",
   "execution_count": 39,
   "metadata": {},
   "outputs": [
    {
     "data": {
      "text/plain": [
       "SVR(C=100, gamma=0.1)"
      ]
     },
     "execution_count": 39,
     "metadata": {},
     "output_type": "execute_result"
    }
   ],
   "source": [
    "grid.best_estimator_"
   ]
  },
  {
   "cell_type": "code",
   "execution_count": 40,
   "metadata": {},
   "outputs": [
    {
     "data": {
      "text/html": [
       "<div>\n",
       "<style scoped>\n",
       "    .dataframe tbody tr th:only-of-type {\n",
       "        vertical-align: middle;\n",
       "    }\n",
       "\n",
       "    .dataframe tbody tr th {\n",
       "        vertical-align: top;\n",
       "    }\n",
       "\n",
       "    .dataframe thead th {\n",
       "        text-align: right;\n",
       "    }\n",
       "</style>\n",
       "<table border=\"1\" class=\"dataframe\">\n",
       "  <thead>\n",
       "    <tr style=\"text-align: right;\">\n",
       "      <th></th>\n",
       "      <th>0</th>\n",
       "      <th>1</th>\n",
       "      <th>2</th>\n",
       "      <th>3</th>\n",
       "      <th>4</th>\n",
       "      <th>5</th>\n",
       "      <th>6</th>\n",
       "      <th>7</th>\n",
       "      <th>8</th>\n",
       "      <th>9</th>\n",
       "      <th>...</th>\n",
       "      <th>17</th>\n",
       "      <th>18</th>\n",
       "      <th>19</th>\n",
       "      <th>20</th>\n",
       "      <th>21</th>\n",
       "      <th>22</th>\n",
       "      <th>23</th>\n",
       "      <th>24</th>\n",
       "      <th>25</th>\n",
       "      <th>26</th>\n",
       "    </tr>\n",
       "  </thead>\n",
       "  <tbody>\n",
       "    <tr>\n",
       "      <th>650</th>\n",
       "      <td>0.0</td>\n",
       "      <td>0.0</td>\n",
       "      <td>0.0</td>\n",
       "      <td>0.0</td>\n",
       "      <td>0.0</td>\n",
       "      <td>1.0</td>\n",
       "      <td>1.0</td>\n",
       "      <td>0.0</td>\n",
       "      <td>0.0</td>\n",
       "      <td>0.0</td>\n",
       "      <td>...</td>\n",
       "      <td>0.0</td>\n",
       "      <td>1.0</td>\n",
       "      <td>0.0</td>\n",
       "      <td>0.0</td>\n",
       "      <td>0.0</td>\n",
       "      <td>0.000000</td>\n",
       "      <td>0.064626</td>\n",
       "      <td>0.0</td>\n",
       "      <td>0.333333</td>\n",
       "      <td>0.008662</td>\n",
       "    </tr>\n",
       "    <tr>\n",
       "      <th>734</th>\n",
       "      <td>0.0</td>\n",
       "      <td>1.0</td>\n",
       "      <td>0.0</td>\n",
       "      <td>0.0</td>\n",
       "      <td>0.0</td>\n",
       "      <td>0.0</td>\n",
       "      <td>1.0</td>\n",
       "      <td>0.0</td>\n",
       "      <td>0.0</td>\n",
       "      <td>0.0</td>\n",
       "      <td>...</td>\n",
       "      <td>0.0</td>\n",
       "      <td>1.0</td>\n",
       "      <td>0.0</td>\n",
       "      <td>0.0</td>\n",
       "      <td>0.0</td>\n",
       "      <td>0.000000</td>\n",
       "      <td>0.241497</td>\n",
       "      <td>0.0</td>\n",
       "      <td>0.333333</td>\n",
       "      <td>1.000000</td>\n",
       "    </tr>\n",
       "    <tr>\n",
       "      <th>404</th>\n",
       "      <td>0.0</td>\n",
       "      <td>0.0</td>\n",
       "      <td>0.0</td>\n",
       "      <td>0.0</td>\n",
       "      <td>0.0</td>\n",
       "      <td>1.0</td>\n",
       "      <td>1.0</td>\n",
       "      <td>0.0</td>\n",
       "      <td>0.0</td>\n",
       "      <td>0.0</td>\n",
       "      <td>...</td>\n",
       "      <td>0.0</td>\n",
       "      <td>1.0</td>\n",
       "      <td>0.0</td>\n",
       "      <td>0.0</td>\n",
       "      <td>0.0</td>\n",
       "      <td>0.000000</td>\n",
       "      <td>0.054422</td>\n",
       "      <td>0.0</td>\n",
       "      <td>0.333333</td>\n",
       "      <td>0.008662</td>\n",
       "    </tr>\n",
       "    <tr>\n",
       "      <th>79</th>\n",
       "      <td>1.0</td>\n",
       "      <td>0.0</td>\n",
       "      <td>0.0</td>\n",
       "      <td>0.0</td>\n",
       "      <td>0.0</td>\n",
       "      <td>0.0</td>\n",
       "      <td>1.0</td>\n",
       "      <td>0.0</td>\n",
       "      <td>0.0</td>\n",
       "      <td>0.0</td>\n",
       "      <td>...</td>\n",
       "      <td>0.0</td>\n",
       "      <td>0.0</td>\n",
       "      <td>0.0</td>\n",
       "      <td>0.0</td>\n",
       "      <td>1.0</td>\n",
       "      <td>0.666667</td>\n",
       "      <td>0.564626</td>\n",
       "      <td>1.0</td>\n",
       "      <td>0.000000</td>\n",
       "      <td>0.053898</td>\n",
       "    </tr>\n",
       "    <tr>\n",
       "      <th>422</th>\n",
       "      <td>0.0</td>\n",
       "      <td>0.0</td>\n",
       "      <td>0.0</td>\n",
       "      <td>0.0</td>\n",
       "      <td>1.0</td>\n",
       "      <td>0.0</td>\n",
       "      <td>0.0</td>\n",
       "      <td>1.0</td>\n",
       "      <td>0.0</td>\n",
       "      <td>0.0</td>\n",
       "      <td>...</td>\n",
       "      <td>0.0</td>\n",
       "      <td>0.0</td>\n",
       "      <td>0.0</td>\n",
       "      <td>1.0</td>\n",
       "      <td>0.0</td>\n",
       "      <td>0.666667</td>\n",
       "      <td>0.428571</td>\n",
       "      <td>0.0</td>\n",
       "      <td>0.666667</td>\n",
       "      <td>0.078922</td>\n",
       "    </tr>\n",
       "    <tr>\n",
       "      <th>...</th>\n",
       "      <td>...</td>\n",
       "      <td>...</td>\n",
       "      <td>...</td>\n",
       "      <td>...</td>\n",
       "      <td>...</td>\n",
       "      <td>...</td>\n",
       "      <td>...</td>\n",
       "      <td>...</td>\n",
       "      <td>...</td>\n",
       "      <td>...</td>\n",
       "      <td>...</td>\n",
       "      <td>...</td>\n",
       "      <td>...</td>\n",
       "      <td>...</td>\n",
       "      <td>...</td>\n",
       "      <td>...</td>\n",
       "      <td>...</td>\n",
       "      <td>...</td>\n",
       "      <td>...</td>\n",
       "      <td>...</td>\n",
       "      <td>...</td>\n",
       "    </tr>\n",
       "    <tr>\n",
       "      <th>250</th>\n",
       "      <td>0.0</td>\n",
       "      <td>0.0</td>\n",
       "      <td>0.0</td>\n",
       "      <td>0.0</td>\n",
       "      <td>1.0</td>\n",
       "      <td>0.0</td>\n",
       "      <td>1.0</td>\n",
       "      <td>0.0</td>\n",
       "      <td>0.0</td>\n",
       "      <td>0.0</td>\n",
       "      <td>...</td>\n",
       "      <td>1.0</td>\n",
       "      <td>0.0</td>\n",
       "      <td>1.0</td>\n",
       "      <td>0.0</td>\n",
       "      <td>0.0</td>\n",
       "      <td>1.000000</td>\n",
       "      <td>0.190476</td>\n",
       "      <td>1.0</td>\n",
       "      <td>1.000000</td>\n",
       "      <td>0.078922</td>\n",
       "    </tr>\n",
       "    <tr>\n",
       "      <th>458</th>\n",
       "      <td>0.0</td>\n",
       "      <td>0.0</td>\n",
       "      <td>1.0</td>\n",
       "      <td>0.0</td>\n",
       "      <td>0.0</td>\n",
       "      <td>0.0</td>\n",
       "      <td>0.0</td>\n",
       "      <td>1.0</td>\n",
       "      <td>0.0</td>\n",
       "      <td>0.0</td>\n",
       "      <td>...</td>\n",
       "      <td>0.0</td>\n",
       "      <td>0.0</td>\n",
       "      <td>0.0</td>\n",
       "      <td>1.0</td>\n",
       "      <td>0.0</td>\n",
       "      <td>0.666667</td>\n",
       "      <td>0.156463</td>\n",
       "      <td>1.0</td>\n",
       "      <td>0.666667</td>\n",
       "      <td>0.000000</td>\n",
       "    </tr>\n",
       "    <tr>\n",
       "      <th>627</th>\n",
       "      <td>1.0</td>\n",
       "      <td>0.0</td>\n",
       "      <td>0.0</td>\n",
       "      <td>0.0</td>\n",
       "      <td>0.0</td>\n",
       "      <td>0.0</td>\n",
       "      <td>1.0</td>\n",
       "      <td>0.0</td>\n",
       "      <td>0.0</td>\n",
       "      <td>0.0</td>\n",
       "      <td>...</td>\n",
       "      <td>0.0</td>\n",
       "      <td>0.0</td>\n",
       "      <td>0.0</td>\n",
       "      <td>0.0</td>\n",
       "      <td>1.0</td>\n",
       "      <td>0.666667</td>\n",
       "      <td>0.394558</td>\n",
       "      <td>1.0</td>\n",
       "      <td>0.000000</td>\n",
       "      <td>0.053898</td>\n",
       "    </tr>\n",
       "    <tr>\n",
       "      <th>155</th>\n",
       "      <td>0.0</td>\n",
       "      <td>0.0</td>\n",
       "      <td>0.0</td>\n",
       "      <td>0.0</td>\n",
       "      <td>0.0</td>\n",
       "      <td>1.0</td>\n",
       "      <td>1.0</td>\n",
       "      <td>0.0</td>\n",
       "      <td>0.0</td>\n",
       "      <td>0.0</td>\n",
       "      <td>...</td>\n",
       "      <td>0.0</td>\n",
       "      <td>1.0</td>\n",
       "      <td>0.0</td>\n",
       "      <td>0.0</td>\n",
       "      <td>0.0</td>\n",
       "      <td>0.000000</td>\n",
       "      <td>0.190476</td>\n",
       "      <td>1.0</td>\n",
       "      <td>0.333333</td>\n",
       "      <td>0.008662</td>\n",
       "    </tr>\n",
       "    <tr>\n",
       "      <th>272</th>\n",
       "      <td>0.0</td>\n",
       "      <td>0.0</td>\n",
       "      <td>1.0</td>\n",
       "      <td>0.0</td>\n",
       "      <td>0.0</td>\n",
       "      <td>0.0</td>\n",
       "      <td>1.0</td>\n",
       "      <td>0.0</td>\n",
       "      <td>0.0</td>\n",
       "      <td>0.0</td>\n",
       "      <td>...</td>\n",
       "      <td>0.0</td>\n",
       "      <td>0.0</td>\n",
       "      <td>0.0</td>\n",
       "      <td>1.0</td>\n",
       "      <td>0.0</td>\n",
       "      <td>0.666667</td>\n",
       "      <td>0.190476</td>\n",
       "      <td>1.0</td>\n",
       "      <td>0.666667</td>\n",
       "      <td>0.000000</td>\n",
       "    </tr>\n",
       "  </tbody>\n",
       "</table>\n",
       "<p>227 rows × 27 columns</p>\n",
       "</div>"
      ],
      "text/plain": [
       "      0    1    2    3    4    5    6    7    8    9   ...   17   18   19  \\\n",
       "650  0.0  0.0  0.0  0.0  0.0  1.0  1.0  0.0  0.0  0.0  ...  0.0  1.0  0.0   \n",
       "734  0.0  1.0  0.0  0.0  0.0  0.0  1.0  0.0  0.0  0.0  ...  0.0  1.0  0.0   \n",
       "404  0.0  0.0  0.0  0.0  0.0  1.0  1.0  0.0  0.0  0.0  ...  0.0  1.0  0.0   \n",
       "79   1.0  0.0  0.0  0.0  0.0  0.0  1.0  0.0  0.0  0.0  ...  0.0  0.0  0.0   \n",
       "422  0.0  0.0  0.0  0.0  1.0  0.0  0.0  1.0  0.0  0.0  ...  0.0  0.0  0.0   \n",
       "..   ...  ...  ...  ...  ...  ...  ...  ...  ...  ...  ...  ...  ...  ...   \n",
       "250  0.0  0.0  0.0  0.0  1.0  0.0  1.0  0.0  0.0  0.0  ...  1.0  0.0  1.0   \n",
       "458  0.0  0.0  1.0  0.0  0.0  0.0  0.0  1.0  0.0  0.0  ...  0.0  0.0  0.0   \n",
       "627  1.0  0.0  0.0  0.0  0.0  0.0  1.0  0.0  0.0  0.0  ...  0.0  0.0  0.0   \n",
       "155  0.0  0.0  0.0  0.0  0.0  1.0  1.0  0.0  0.0  0.0  ...  0.0  1.0  0.0   \n",
       "272  0.0  0.0  1.0  0.0  0.0  0.0  1.0  0.0  0.0  0.0  ...  0.0  0.0  0.0   \n",
       "\n",
       "      20   21        22        23   24        25        26  \n",
       "650  0.0  0.0  0.000000  0.064626  0.0  0.333333  0.008662  \n",
       "734  0.0  0.0  0.000000  0.241497  0.0  0.333333  1.000000  \n",
       "404  0.0  0.0  0.000000  0.054422  0.0  0.333333  0.008662  \n",
       "79   0.0  1.0  0.666667  0.564626  1.0  0.000000  0.053898  \n",
       "422  1.0  0.0  0.666667  0.428571  0.0  0.666667  0.078922  \n",
       "..   ...  ...       ...       ...  ...       ...       ...  \n",
       "250  0.0  0.0  1.000000  0.190476  1.0  1.000000  0.078922  \n",
       "458  1.0  0.0  0.666667  0.156463  1.0  0.666667  0.000000  \n",
       "627  0.0  1.0  0.666667  0.394558  1.0  0.000000  0.053898  \n",
       "155  0.0  0.0  0.000000  0.190476  1.0  0.333333  0.008662  \n",
       "272  1.0  0.0  0.666667  0.190476  1.0  0.666667  0.000000  \n",
       "\n",
       "[227 rows x 27 columns]"
      ]
     },
     "execution_count": 40,
     "metadata": {},
     "output_type": "execute_result"
    }
   ],
   "source": [
    "X_test"
   ]
  },
  {
   "cell_type": "code",
   "execution_count": 41,
   "metadata": {},
   "outputs": [],
   "source": [
    "metEsc = SVR(C = c, gamma = gamma, kernel = kernel)\n",
    "testeMaquinaReg(metEsc)"
   ]
  },
  {
   "cell_type": "markdown",
   "metadata": {},
   "source": [
    "KNN"
   ]
  },
  {
   "cell_type": "code",
   "execution_count": 42,
   "metadata": {},
   "outputs": [],
   "source": [
    "from sklearn.neighbors import KNeighborsRegressor\n",
    "metEsc = KNeighborsRegressor()\n",
    "testeMaquinaReg(metEsc)"
   ]
  },
  {
   "cell_type": "code",
   "execution_count": 43,
   "metadata": {},
   "outputs": [
    {
     "name": "stdout",
     "output_type": "stream",
     "text": [
      "random_state:  40 \n",
      " n_neighbors:  1\n"
     ]
    }
   ],
   "source": [
    "#criação de conjunto vazio\n",
    "error_rate = []\n",
    "\n",
    "#Tamanho do laço for para testes\n",
    "k = 30\n",
    "t = 100\n",
    "\n",
    "for j in range(1, t+1):\n",
    "    X_train, X_test, y_train, y_test = train_test_split(X, y, test_size=0.3, random_state=j)\n",
    "    #scaler = StandardScaler()\n",
    "    #X_train_pad = scaler.fit_transform(X_train)\n",
    "    #X_test_pad = scaler.fit_transform(X_test)\n",
    "    #criação de laço for, para definir melhor número de vizinhos\n",
    "    for i in range(1,k+1):\n",
    "        knn = KNeighborsRegressor(n_neighbors=i)\n",
    "        knn.fit(X_train, y_train)\n",
    "        pred = knn.predict(X_test)\n",
    "        error_rate.append(np.mean(pred != y_test))\n",
    "\n",
    "valor_menor = buscarMenor(error_rate)\n",
    "print(\"random_state: \", int((valor_menor-1)/k), '\\n', 'n_neighbors: ', ((valor_menor-1)%k)+1)\n",
    "menor = ((valor_menor-1)%k)+1"
   ]
  },
  {
   "cell_type": "code",
   "execution_count": 44,
   "metadata": {},
   "outputs": [],
   "source": [
    "i = 0\n",
    "regress_analise = []\n",
    "predi_teste=[]\n",
    "predi_treino=[]\n",
    "y_teste=[]\n",
    "y_treino=[]\n",
    "# Laço de 10 repetições para retirar média dos testes\n",
    "for i in range (0,100):\n",
    "    X_train, X_test, y_train, y_test = train_test_split(X, y, test_size=0.3, random_state=40)\n",
    "    #scaler = StandardScaler()\n",
    "    #X_train_pad = scaler.fit_transform(X_train)\n",
    "    #X_test_pad = scaler.fit_transform(X_test)\n",
    "    knn = KNeighborsRegressor(n_neighbors=1)\n",
    "    knn.fit(X_train, y_train)\n",
    "    score = knn.score(X_train, y_train)\n",
    "    #predição\n",
    "    predictions = knn.predict(X_test)\n",
    "    predictions2 = knn.predict(X_train)\n",
    "\n",
    "    #imprimindo classificação\n",
    "    predi_teste.append(predictions)\n",
    "    predi_treino.append(predictions2)\n",
    "    y_test = pd.DataFrame(data=y_test)\n",
    "    y_teste.append(y_test)\n",
    "    y_train = pd.DataFrame(data=y_train)\n",
    "    y_treino.append(y_train)\n",
    "    regress_analise.append(knn.score(X_test, y_test))\n",
    "    regress_analise.append(mean_absolute_error(y_test,predictions))\n",
    "    regress_analise.append(mean_absolute_error(y_train,predictions2))\n",
    "    regress_analise.append(mean_squared_error(y_test,predictions))\n",
    "    regress_analise.append(mean_squared_error(y_train,predictions2))\n",
    "    regress_analise.append(r2_score(y_test,predictions))\n",
    "    regress_analise.append(r2_score(y_train,predictions2))\n",
    "    regress_analise.append(mean_absolute_percentage_error(y_test,predictions))\n",
    "    regress_analise.append(mean_absolute_percentage_error(y_train,predictions2))\n",
    "\n",
    "i =+ 1\n",
    "\n",
    "# Reformulando os dados e remodelando\n",
    "regress_analise = pd.DataFrame(data=np.reshape(regress_analise, (100, 9)), index=None,\n",
    "                              columns=['Score', 'MAE_Teste', 'MAE_Treino', 'MSE_Teste', 'MSE_Treino', 'R2_Teste', 'R2_Treino', 'MAPE_Teste', 'MAPE_Treino'])\n",
    "predi_teste = pd.DataFrame(data=predi_teste)\n",
    "predi_treino = pd.DataFrame(data=predi_treino)\n",
    "y_teste = pd.DataFrame(data=np.reshape(y_teste, (100, 227)), index=None)\n",
    "y_treino = pd.DataFrame(data=np.reshape(y_treino, (100, 529)), index=None)\n",
    "\n",
    "# Exportando dados para análise\n",
    "regress_analise.to_csv('Relatorio/Regressao/regression_report_KNeighborsRegressor(n_neighbors=1).csv'.format(str(metEsc)), index=False)\n",
    "predi_teste.to_csv('Relatorio/Regressao/Avaliacao/regression_report_KNeighborsRegressor(n_neighbors=1)_predicaoteste.csv'.format(str(metEsc)), index=False)\n",
    "predi_treino.to_csv('Relatorio/Regressao/Avaliacao/regression_report_KNeighborsRegressor(n_neighbors=1)_predicaotreino.csv'.format(str(metEsc)), index=False)\n",
    "y_test.to_csv('Relatorio/Regressao/Avaliacao/regression_report_KNeighborsRegressor(n_neighbors=1)_yteste.csv'.format(str(metEsc)), index=False)\n",
    "y_train.to_csv('Relatorio/Regressao/Avaliacao/regression_report_KNeighborsRegressor(n_neighbors=1)_ytreino.csv'.format(str(metEsc)), index=False)\n",
    "\n",
    "# reset dos valores\n",
    "regress_analise = []\n",
    "predi_teste=[]\n",
    "predi_treino=[]\n",
    "y_teste=[]\n",
    "y_treino=[]"
   ]
  },
  {
   "cell_type": "markdown",
   "metadata": {},
   "source": [
    "Árvore de Decisão"
   ]
  },
  {
   "cell_type": "code",
   "execution_count": 45,
   "metadata": {},
   "outputs": [],
   "source": [
    "from sklearn.tree import DecisionTreeRegressor\n",
    "metEsc = DecisionTreeRegressor()\n",
    "testeMaquinaReg(metEsc)"
   ]
  },
  {
   "cell_type": "code",
   "execution_count": 46,
   "metadata": {},
   "outputs": [
    {
     "name": "stdout",
     "output_type": "stream",
     "text": [
      "random_state:  68 \n",
      " n_neighbors:  21\n"
     ]
    }
   ],
   "source": [
    "#criação de conjunto vazio\n",
    "error_rate = []\n",
    "\n",
    "#Tamanho do laço for para testes\n",
    "k = 30\n",
    "t = 100\n",
    "\n",
    "for j in range(1, t+1):\n",
    "    X_train, X_test, y_train, y_test = train_test_split(X, y, test_size=0.3, random_state=j)\n",
    "    #scaler = StandardScaler()\n",
    "    #X_train_pad = scaler.fit_transform(X_train)\n",
    "    #X_test_pad = scaler.fit_transform(X_test)\n",
    "    #criação de laço for, para definir melhor número de vizinhos\n",
    "    for i in range(1,k+1):\n",
    "        arvReg = DecisionTreeRegressor(max_depth=i)\n",
    "        arvReg.fit(X_train, y_train)\n",
    "        pred = arvReg.predict(X_test)\n",
    "        error_rate.append(np.mean(pred != y_test))\n",
    "\n",
    "valor_menor = buscarMenor(error_rate)\n",
    "print(\"random_state: \", int((valor_menor-1)/k), '\\n', 'n_neighbors: ', ((valor_menor-1)%k)+1)\n",
    "menor = ((valor_menor-1)%k)+1"
   ]
  },
  {
   "cell_type": "code",
   "execution_count": 54,
   "metadata": {},
   "outputs": [],
   "source": [
    "i = 0\n",
    "regress_analise = []\n",
    "predi_teste=[]\n",
    "predi_treino=[]\n",
    "y_teste=[]\n",
    "y_treino=[]\n",
    "# Laço de 10 repetições para retirar média dos testes\n",
    "for i in range (0,100):\n",
    "    X_train, X_test, y_train, y_test = train_test_split(X, y, test_size=0.3, random_state=68)\n",
    "    #scaler = StandardScaler()\n",
    "    #X_train_pad = scaler.fit_transform(X_train)\n",
    "    #X_test_pad = scaler.fit_transform(X_test)\n",
    "    arvReg = DecisionTreeRegressor(max_depth=21)\n",
    "    arvReg.fit(X_train, y_train)\n",
    "    score = arvReg.score(X_train, y_train)\n",
    "    #predição\n",
    "    predictions = arvReg.predict(X_test)\n",
    "    predictions2 = arvReg.predict(X_train)\n",
    "\n",
    "    #imprimindo classificação\n",
    "    predi_teste.append(predictions)\n",
    "    predi_treino.append(predictions2)\n",
    "    y_test = pd.DataFrame(data=y_test)\n",
    "    y_teste.append(y_test)\n",
    "    y_train = pd.DataFrame(data=y_train)\n",
    "    y_treino.append(y_train)\n",
    "    regress_analise.append(arvReg.score(X_test, y_test))\n",
    "    regress_analise.append(mean_absolute_error(y_test,predictions))\n",
    "    regress_analise.append(mean_absolute_error(y_train,predictions2))\n",
    "    regress_analise.append(mean_squared_error(y_test,predictions))\n",
    "    regress_analise.append(mean_squared_error(y_train,predictions2))\n",
    "    regress_analise.append(r2_score(y_test,predictions))\n",
    "    regress_analise.append(r2_score(y_train,predictions2))\n",
    "    regress_analise.append(mean_absolute_percentage_error(y_test,predictions))\n",
    "    regress_analise.append(mean_absolute_percentage_error(y_train,predictions2))\n",
    "\n",
    "i =+ 1\n",
    "\n",
    "# Reformulando os dados e remodelando\n",
    "regress_analise = pd.DataFrame(data=np.reshape(regress_analise, (100, 9)), index=None,\n",
    "                              columns=['Score', 'MAE_Teste', 'MAE_Treino', 'MSE_Teste', 'MSE_Treino', 'R2_Teste', 'R2_Treino', 'MAPE_Teste', 'MAPE_Treino'])\n",
    "predi_teste = pd.DataFrame(data=predi_teste)\n",
    "predi_treino = pd.DataFrame(data=predi_treino)\n",
    "y_teste = pd.DataFrame(data=np.reshape(y_teste, (100, 227)), index=None)\n",
    "y_treino = pd.DataFrame(data=np.reshape(y_treino, (100, 529)), index=None)\n",
    "\n",
    "# Exportando dados para análise\n",
    "regress_analise.to_csv('Relatorio/Regressao/regression_report_DecisionTreeRegressor(max_depth=21).csv'.format(str(metEsc)), index=False)\n",
    "predi_teste.to_csv('Relatorio/Regressao/Avaliacao/regression_report_DecisionTreeRegressor(max_depth=21)_predicaoteste.csv'.format(str(metEsc)), index=False)\n",
    "predi_treino.to_csv('Relatorio/Regressao/Avaliacao/regression_report_DecisionTreeRegressor(max_depth=21)_predicaotreino.csv'.format(str(metEsc)), index=False)\n",
    "y_test.to_csv('Relatorio/Regressao/Avaliacao/regression_report_DecisionTreeRegressor(max_depth=21)_yteste.csv'.format(str(metEsc)), index=False)\n",
    "y_train.to_csv('Relatorio/Regressao/Avaliacao/regression_report_DecisionTreeRegressor(max_depth=21)_ytreino.csv'.format(str(metEsc)), index=False)\n",
    "\n",
    "# reset dos valores\n",
    "regress_analise = []\n",
    "predi_teste=[]\n",
    "predi_treino=[]\n",
    "y_teste=[]\n",
    "y_treino=[]"
   ]
  },
  {
   "cell_type": "markdown",
   "metadata": {},
   "source": [
    "Random Forest"
   ]
  },
  {
   "cell_type": "code",
   "execution_count": 48,
   "metadata": {},
   "outputs": [],
   "source": [
    "from sklearn.ensemble import RandomForestRegressor\n",
    "metEsc = RandomForestRegressor()\n",
    "testeMaquinaReg(metEsc)"
   ]
  },
  {
   "cell_type": "code",
   "execution_count": 49,
   "metadata": {},
   "outputs": [
    {
     "name": "stdout",
     "output_type": "stream",
     "text": [
      "random_state:  12 \n",
      " n_neighbors:  1\n"
     ]
    }
   ],
   "source": [
    "#criação de conjunto vazio\n",
    "error_rate = []\n",
    "\n",
    "#Tamanho do laço for para testes\n",
    "k = 30\n",
    "t = 100\n",
    "\n",
    "for j in range(1, t+1):\n",
    "    X_train, X_test, y_train, y_test = train_test_split(X, y, test_size=0.3, random_state=j)\n",
    "    #scaler = StandardScaler()\n",
    "    #X_train_pad = scaler.fit_transform(X_train)\n",
    "    #X_test_pad = scaler.fit_transform(X_test)\n",
    "    #criação de laço for, para definir melhor número de vizinhos\n",
    "    for i in range(10,310,10):\n",
    "        randReg = RandomForestRegressor(n_estimators=i)\n",
    "        randReg.fit(X_train, y_train)\n",
    "        pred = randReg.predict(X_test)\n",
    "        error_rate.append(np.mean(pred != y_test))\n",
    "\n",
    "valor_menor = buscarMenor(error_rate)\n",
    "print(\"random_state: \", int((valor_menor-1)/k), '\\n', 'n_neighbors: ', ((valor_menor-1)%k)+1)\n",
    "menor = ((valor_menor-1)%k)+1"
   ]
  },
  {
   "cell_type": "code",
   "execution_count": 50,
   "metadata": {},
   "outputs": [],
   "source": [
    "i = 0\n",
    "regress_analise = []\n",
    "predi_teste=[]\n",
    "predi_treino=[]\n",
    "y_teste=[]\n",
    "y_treino=[]\n",
    "# Laço de 10 repetições para retirar média dos testes\n",
    "for i in range (0,100):\n",
    "    X_train, X_test, y_train, y_test = train_test_split(X, y, test_size=0.3, random_state=93)\n",
    "    #scaler = StandardScaler()\n",
    "    #X_train_pad = scaler.fit_transform(X_train)\n",
    "    #X_test_pad = scaler.fit_transform(X_test)\n",
    "    randReg = RandomForestRegressor(n_estimators=10)\n",
    "    randReg.fit(X_train, y_train)\n",
    "    score = randReg.score(X_train, y_train)\n",
    "    #predição\n",
    "    predictions = randReg.predict(X_test)\n",
    "    predictions2 = randReg.predict(X_train)\n",
    "\n",
    "    #imprimindo classificação\n",
    "    predi_teste.append(predictions)\n",
    "    predi_treino.append(predictions2)\n",
    "    y_test = pd.DataFrame(data=y_test)\n",
    "    y_teste.append(y_test)\n",
    "    y_train = pd.DataFrame(data=y_train)\n",
    "    y_treino.append(y_train)\n",
    "    regress_analise.append(randReg.score(X_test, y_test))\n",
    "    regress_analise.append(mean_absolute_error(y_test,predictions))\n",
    "    regress_analise.append(mean_absolute_error(y_train,predictions2))\n",
    "    regress_analise.append(mean_squared_error(y_test,predictions))\n",
    "    regress_analise.append(mean_squared_error(y_train,predictions2))\n",
    "    regress_analise.append(r2_score(y_test,predictions))\n",
    "    regress_analise.append(r2_score(y_train,predictions2))\n",
    "    regress_analise.append(mean_absolute_percentage_error(y_test,predictions))\n",
    "    regress_analise.append(mean_absolute_percentage_error(y_train,predictions2))\n",
    "\n",
    "i =+ 1\n",
    "\n",
    "# Reformulando os dados e remodelando\n",
    "regress_analise = pd.DataFrame(data=np.reshape(regress_analise, (100, 9)), index=None,\n",
    "                              columns=['Score', 'MAE_Teste', 'MAE_Treino', 'MSE_Teste', 'MSE_Treino', 'R2_Teste', 'R2_Treino', 'MAPE_Teste', 'MAPE_Treino'])\n",
    "predi_teste = pd.DataFrame(data=predi_teste)\n",
    "predi_treino = pd.DataFrame(data=predi_treino)\n",
    "y_teste = pd.DataFrame(data=np.reshape(y_teste, (100, 227)), index=None)\n",
    "y_treino = pd.DataFrame(data=np.reshape(y_treino, (100, 529)), index=None)\n",
    "\n",
    "# Exportando dados para análise\n",
    "regress_analise.to_csv('Relatorio/Regressao/regression_report_RandomForestRegressor(n_estimators=10).csv'.format(str(metEsc)), index=False)\n",
    "predi_teste.to_csv('Relatorio/Regressao/Avaliacao/regression_report_RandomForestRegressor(n_estimators=10)_predicaoteste.csv'.format(str(metEsc)), index=False)\n",
    "predi_treino.to_csv('Relatorio/Regressao/Avaliacao/regression_report_RandomForestRegressor(n_estimators=10)_predicaotreino.csv'.format(str(metEsc)), index=False)\n",
    "y_test.to_csv('Relatorio/Regressao/Avaliacao/regression_report_RandomForestRegressor(n_estimators=10)_yteste.csv'.format(str(metEsc)), index=False)\n",
    "y_train.to_csv('Relatorio/Regressao/Avaliacao/regression_report_RandomForestRegressor(n_estimators=10)_ytreino.csv'.format(str(metEsc)), index=False)\n",
    "\n",
    "# reset dos valores\n",
    "regress_analise = []\n",
    "predi_teste=[]\n",
    "predi_treino=[]\n",
    "y_teste=[]\n",
    "y_treino=[]"
   ]
  },
  {
   "cell_type": "markdown",
   "metadata": {},
   "source": [
    "ANN"
   ]
  },
  {
   "cell_type": "code",
   "execution_count": 51,
   "metadata": {},
   "outputs": [],
   "source": [
    "from sklearn.neural_network import MLPRegressor\n",
    "metEsc = MLPRegressor()\n",
    "testeMaquinaReg(metEsc)"
   ]
  },
  {
   "cell_type": "code",
   "execution_count": 52,
   "metadata": {},
   "outputs": [
    {
     "name": "stdout",
     "output_type": "stream",
     "text": [
      "random_state:  0 \n",
      " n_neighbors:  1\n"
     ]
    }
   ],
   "source": [
    "#criação de conjunto vazio\n",
    "error_rate = []\n",
    "\n",
    "#Tamanho do laço for para testes\n",
    "k = 30\n",
    "t = 100\n",
    "\n",
    "for j in range(1, t+1):\n",
    "    X_train, X_test, y_train, y_test = train_test_split(X, y, test_size=0.3, random_state=j)\n",
    "    #scaler = StandardScaler()\n",
    "    #X_train_pad = scaler.fit_transform(X_train)\n",
    "    #X_test_pad = scaler.fit_transform(X_test)\n",
    "    #criação de laço for, para definir melhor número de vizinhos\n",
    "    for i in range(2000,20000,1000):\n",
    "        annr = MLPRegressor(max_iter=i)\n",
    "        annr.fit(X_train, y_train)\n",
    "        pred = annr.predict(X_test)\n",
    "        error_rate.append(np.mean(pred != y_test))\n",
    "\n",
    "valor_menor = buscarMenor(error_rate)\n",
    "print(\"random_state: \", int((valor_menor-1)/k), '\\n', 'n_neighbors: ', ((valor_menor-1)%k)+1)\n",
    "menor = ((valor_menor-1)%k)+1"
   ]
  },
  {
   "cell_type": "code",
   "execution_count": 53,
   "metadata": {},
   "outputs": [],
   "source": [
    "i = 0\n",
    "regress_analise = []\n",
    "predi_teste=[]\n",
    "predi_treino=[]\n",
    "y_teste=[]\n",
    "y_treino=[]\n",
    "# Laço de 10 repetições para retirar média dos testes\n",
    "for i in range (0,100):\n",
    "    X_train, X_test, y_train, y_test = train_test_split(X, y, test_size=0.3, random_state=0)\n",
    "    #scaler = StandardScaler()\n",
    "    #X_train_pad = scaler.fit_transform(X_train)\n",
    "    #X_test_pad = scaler.fit_transform(X_test)\n",
    "    annr = MLPRegressor(random_state=0, max_iter=2000)\n",
    "    annr.fit(X_train, y_train)\n",
    "    score = annr.score(X_train, y_train)\n",
    "    #predição\n",
    "    predictions = annr.predict(X_test)\n",
    "    predictions2 = annr.predict(X_train)\n",
    "\n",
    "    #imprimindo classificação\n",
    "    predi_teste.append(predictions)\n",
    "    predi_treino.append(predictions2)\n",
    "    y_test = pd.DataFrame(data=y_test)\n",
    "    y_teste.append(y_test)\n",
    "    y_train = pd.DataFrame(data=y_train)\n",
    "    y_treino.append(y_train)\n",
    "    regress_analise.append(annr.score(X_test, y_test))\n",
    "    regress_analise.append(mean_absolute_error(y_test,predictions))\n",
    "    regress_analise.append(mean_absolute_error(y_train,predictions2))\n",
    "    regress_analise.append(mean_squared_error(y_test,predictions))\n",
    "    regress_analise.append(mean_squared_error(y_train,predictions2))\n",
    "    regress_analise.append(r2_score(y_test,predictions))\n",
    "    regress_analise.append(r2_score(y_train,predictions2))\n",
    "    regress_analise.append(mean_absolute_percentage_error(y_test,predictions))\n",
    "    regress_analise.append(mean_absolute_percentage_error(y_train,predictions2))\n",
    "\n",
    "i =+ 1\n",
    "\n",
    "# Reformulando os dados e remodelando\n",
    "regress_analise = pd.DataFrame(data=np.reshape(regress_analise, (100, 9)), index=None,\n",
    "                              columns=['Score', 'MAE_Teste', 'MAE_Treino', 'MSE_Teste', 'MSE_Treino', 'R2_Teste', 'R2_Treino', 'MAPE_Teste', 'MAPE_Treino'])\n",
    "predi_teste = pd.DataFrame(data=predi_teste)\n",
    "predi_treino = pd.DataFrame(data=predi_treino)\n",
    "y_teste = pd.DataFrame(data=np.reshape(y_teste, (100, 227)), index=None)\n",
    "y_treino = pd.DataFrame(data=np.reshape(y_treino, (100, 529)), index=None)\n",
    "\n",
    "# Exportando dados para análise\n",
    "regress_analise.to_csv('Relatorio/Regressao/regression_report_MLPRegressor(max_iter=2000).csv'.format(str(metEsc)), index=False)\n",
    "predi_teste.to_csv('Relatorio/Regressao/Avaliacao/regression_report_MLPRegressor(max_iter=2000)_predicaoteste.csv'.format(str(metEsc)), index=False)\n",
    "predi_treino.to_csv('Relatorio/Regressao/Avaliacao/regression_report_MLPRegressor(max_iter=2000)_predicaotreino.csv'.format(str(metEsc)), index=False)\n",
    "y_test.to_csv('Relatorio/Regressao/Avaliacao/regression_report_MLPRegressor(max_iter=2000)_yteste.csv'.format(str(metEsc)), index=False)\n",
    "y_train.to_csv('Relatorio/Regressao/Avaliacao/regression_report_MLPRegressor(max_iter=2000)_ytreino.csv'.format(str(metEsc)), index=False)\n",
    "\n",
    "# reset dos valores\n",
    "regress_analise = []\n",
    "predi_teste=[]\n",
    "predi_treino=[]\n",
    "y_teste=[]\n",
    "y_treino=[]"
   ]
  }
 ],
 "metadata": {
  "kernelspec": {
   "display_name": "Python 3",
   "language": "python",
   "name": "python3"
  },
  "language_info": {
   "codemirror_mode": {
    "name": "ipython",
    "version": 3
   },
   "file_extension": ".py",
   "mimetype": "text/x-python",
   "name": "python",
   "nbconvert_exporter": "python",
   "pygments_lexer": "ipython3",
   "version": "3.8.3"
  }
 },
 "nbformat": 4,
 "nbformat_minor": 4
}
