{
 "cells": [
  {
   "cell_type": "code",
   "execution_count": 1,
   "id": "7a4f0ef9",
   "metadata": {},
   "outputs": [],
   "source": [
    "import numpy as np\n",
    "import pandas as pd\n",
    "import matplotlib.pyplot as plt\n",
    "import seaborn as sns\n",
    "%matplotlib inline"
   ]
  },
  {
   "cell_type": "code",
   "execution_count": 2,
   "id": "6df67159",
   "metadata": {},
   "outputs": [
    {
     "data": {
      "text/plain": [
       "Teste       0.257168\n",
       "Treino      0.266004\n",
       "Teste.1     0.515929\n",
       "Treino.1    0.556023\n",
       "Teste.2     0.520487\n",
       "Treino.2    0.596913\n",
       "Teste.3     0.672566\n",
       "Treino.3    0.888258\n",
       "Teste.4     0.653451\n",
       "Treino.4    0.876951\n",
       "Teste.5     0.683319\n",
       "Treino.5    0.884470\n",
       "Teste.6     0.685619\n",
       "Treino.6    0.856894\n",
       "Teste.7     0.670088\n",
       "Treino.7    0.858409\n",
       "Teste.8     0.035310\n",
       "Treino.8    0.033864\n",
       "Teste.9     0.628319\n",
       "Treino.9    0.630682\n",
       "dtype: float64"
      ]
     },
     "execution_count": 2,
     "metadata": {},
     "output_type": "execute_result"
    }
   ],
   "source": [
    "db = pd.read_excel('Relatorio/Regressao/Avaliacao/Métricas.xlsx')\n",
    "db.mean()"
   ]
  },
  {
   "cell_type": "code",
   "execution_count": 3,
   "id": "53d884d4",
   "metadata": {},
   "outputs": [],
   "source": [
    "db0 = db['Teste']\n",
    "db1 = db['Treino']\n",
    "db2 = db['Teste.1']\n",
    "db3 = db['Treino.1']\n",
    "db4 = db['Teste.2']\n",
    "db5 = db['Treino.2']\n",
    "db6 = db['Teste.3']\n",
    "db7 = db['Treino.3']\n",
    "db8 = db['Teste.4']\n",
    "db9 = db['Treino.4']\n",
    "db10 = db['Teste.5']\n",
    "db11 = db['Treino.5']\n",
    "db12 = db['Teste.6']\n",
    "db13 = db['Treino.6']\n",
    "db14 = db['Teste.7']\n",
    "db15 = db['Treino.7']\n",
    "db16 = db['Teste.8']\n",
    "db17 = db['Treino.8']\n",
    "db18 = db['Teste.9']\n",
    "db19 = db['Treino.9']\n"
   ]
  },
  {
   "cell_type": "code",
   "execution_count": 4,
   "id": "1ff41609",
   "metadata": {},
   "outputs": [],
   "source": [
    "metleg = ['SVC', 'SVC(BP*)', 'KNN', 'KNN(BP*)', 'ArvClas', 'ArvClas(BP*)', 'RanFor', 'RanFor(BP*)', 'ANN', 'ANN(BP*)']"
   ]
  },
  {
   "cell_type": "code",
   "execution_count": 5,
   "id": "49b30a3f",
   "metadata": {},
   "outputs": [],
   "source": [
    "AcuraciaTe = []\n",
    "AcuraciaTr = []"
   ]
  },
  {
   "cell_type": "code",
   "execution_count": 6,
   "id": "5a28ca2a",
   "metadata": {},
   "outputs": [],
   "source": [
    "def incluirDadosTe(database):\n",
    "    for i in range(0, len(database)):\n",
    "        AcuraciaTe.append(database[i])\n",
    "def incluirDadosTr(database):\n",
    "    for i in range(0, len(database)):\n",
    "        AcuraciaTr.append(database[i])"
   ]
  },
  {
   "cell_type": "code",
   "execution_count": 7,
   "id": "a590e3e6",
   "metadata": {},
   "outputs": [],
   "source": [
    "incluirDadosTe(db0)\n",
    "incluirDadosTr(db1)\n",
    "incluirDadosTe(db2)\n",
    "incluirDadosTr(db3)\n",
    "incluirDadosTe(db4)\n",
    "incluirDadosTr(db5)\n",
    "incluirDadosTe(db6)\n",
    "incluirDadosTr(db7)\n",
    "incluirDadosTe(db8)\n",
    "incluirDadosTr(db9)\n",
    "incluirDadosTe(db10)\n",
    "incluirDadosTr(db11)\n",
    "incluirDadosTe(db12)\n",
    "incluirDadosTr(db13)\n",
    "incluirDadosTe(db14)\n",
    "incluirDadosTr(db15)\n",
    "incluirDadosTe(db16)\n",
    "incluirDadosTr(db17)\n",
    "incluirDadosTe(db18)\n",
    "incluirDadosTr(db19)"
   ]
  },
  {
   "cell_type": "code",
   "execution_count": 8,
   "id": "6f4b6991",
   "metadata": {},
   "outputs": [],
   "source": [
    "AcuraciaTe = pd.DataFrame(data=np.reshape(AcuraciaTe, (10,100)))\n",
    "AcuraciaTe = AcuraciaTe.T\n",
    "AcuraciaTe.columns = metleg\n",
    "AcuraciaTr = pd.DataFrame(data=np.reshape(AcuraciaTr, (10,100)))\n",
    "AcuraciaTr = AcuraciaTr.T\n",
    "AcuraciaTr.columns = metleg"
   ]
  },
  {
   "cell_type": "code",
   "execution_count": 10,
   "id": "1d6294af",
   "metadata": {},
   "outputs": [],
   "source": [
    "def autolabel(Grupos):\n",
    "    for i in Grupos:\n",
    "        h = i.get_height()\n",
    "        ax.annotate('{0:.0f}%'.format(h*100),\n",
    "            xy = (i.get_x()+i.get_width()/2,h),\n",
    "            xytext = (0,3),\n",
    "            textcoords = 'offset points',\n",
    "            ha = 'center')"
   ]
  },
  {
   "cell_type": "code",
   "execution_count": 11,
   "id": "724d0673",
   "metadata": {},
   "outputs": [
    {
     "data": {
      "image/png": "[encoded data removed]",
      "text/plain": [
       "<Figure size 864x432 with 1 Axes>"
      ]
     },
     "metadata": {
      "needs_background": "light"
     },
     "output_type": "display_data"
    }
   ],
   "source": [
    "width=0.9\n",
    "x = np.array(range(len(AcuraciaTe.T)))\n",
    "\n",
    "fig, ax = plt.subplots(figsize=(12,6))\n",
    "\n",
    "bpl = ax.bar((x*2)-width/2, AcuraciaTe.mean(), width, label=\"Teste\", color='#D7191C')\n",
    "bpr = ax.bar((x*2)+width/2, AcuraciaTr.mean(), width, label=\"Treino\", color='#2C7BB6')\n",
    "plt.legend()\n",
    "\n",
    "plt.xticks(range(0, len(metleg) * 2, 2), metleg)\n",
    "plt.xlim(-2, len(metleg)*2)\n",
    "plt.title(\"Acurácia\")\n",
    "plt.xlabel(\"Método\")\n",
    "plt.ylabel(\"Percentual\")\n",
    "\n",
    "autolabel(bpl)\n",
    "autolabel(bpr)\n",
    "\n",
    "plt.savefig('Imagens\\Avaliacao\\Acuracia (reg) - Gráfico Barras.jpeg')"
   ]
  },
  {
   "cell_type": "code",
   "execution_count": null,
   "id": "e79309e9",
   "metadata": {},
   "outputs": [],
   "source": []
  }
 ],
 "metadata": {
  "kernelspec": {
   "display_name": "Python (TF)",
   "language": "python",
   "name": "environment_name"
  },
  "language_info": {
   "codemirror_mode": {
    "name": "ipython",
    "version": 3
   },
   "file_extension": ".py",
   "mimetype": "text/x-python",
   "name": "python",
   "nbconvert_exporter": "python",
   "pygments_lexer": "ipython3",
   "version": "3.9.6"
  }
 },
 "nbformat": 4,
 "nbformat_minor": 5
}
