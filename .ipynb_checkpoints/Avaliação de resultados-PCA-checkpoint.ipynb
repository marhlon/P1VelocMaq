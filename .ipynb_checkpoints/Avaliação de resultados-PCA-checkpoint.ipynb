{
 "cells": [
  {
   "cell_type": "code",
   "execution_count": 1,
   "metadata": {},
   "outputs": [],
   "source": [
    "import numpy as np\n",
    "import pandas as pd\n",
    "import matplotlib.pyplot as plt\n",
    "import seaborn as sns\n",
    "%matplotlib inline"
   ]
  },
  {
   "cell_type": "markdown",
   "metadata": {},
   "source": [
    "## Métodos de Classificação"
   ]
  },
  {
   "cell_type": "code",
   "execution_count": null,
   "metadata": {},
   "outputs": [],
   "source": [
    "metodos = ['GaussianNB()', 'LogisticRegression()', 'KNeighborsClassifier()', 'KNeighborsClassifier(n_neighbors=1)',\n",
    "           'SVC()', 'SVC(C=100, gamma=0.1)', 'DecisionTreeClassifier()', 'DecisionTreeClassifier(max_depth=25)',\n",
    "           'RandomForestClassifier()', 'RandomForestClassifier(n_estimators=4)', 'MLPClassifier()',\n",
    "           'MLPClassifier(max_iter=5)']\n",
    "\n",
    "avaliacoes = ['Acuracia_Teste', 'Acuracia_Treino', 'Precisao_Teste', 'Precisao_Treino','F1_Teste', 'F1_Treino']\n",
    "\n",
    "db0 = pd.read_csv('Relatorio/PCA/classification_report_{}.csv'.format(str(metodos[0])))\n",
    "db1 = pd.read_csv('Relatorio/PCA/classification_report_{}.csv'.format(str(metodos[1])))\n",
    "db2 = pd.read_csv('Relatorio/PCA/classification_report_{}.csv'.format(str(metodos[2])))\n",
    "db3 = pd.read_csv('Relatorio/PCA/classification_report_{}.csv'.format(str(metodos[3])))\n",
    "db4 = pd.read_csv('Relatorio/PCA/classification_report_{}.csv'.format(str(metodos[4])))\n",
    "db5 = pd.read_csv('Relatorio/PCA/classification_report_{}.csv'.format(str(metodos[5])))\n",
    "db6 = pd.read_csv('Relatorio/PCA/classification_report_{}.csv'.format(str(metodos[6])))\n",
    "db7 = pd.read_csv('Relatorio/PCA/classification_report_{}.csv'.format(str(metodos[7])))\n",
    "db8 = pd.read_csv('Relatorio/PCA/classification_report_{}.csv'.format(str(metodos[8])))\n",
    "db9 = pd.read_csv('Relatorio/PCA/classification_report_{}.csv'.format(str(metodos[9])))\n",
    "db10 = pd.read_csv('Relatorio/PCA/classification_report_{}.csv'.format(str(metodos[10])))\n",
    "db11 = pd.read_csv('Relatorio/PCA/classification_report_{}.csv'.format(str(metodos[11])))"
   ]
  },
  {
   "cell_type": "code",
   "execution_count": null,
   "metadata": {},
   "outputs": [],
   "source": [
    "db0.head()"
   ]
  },
  {
   "cell_type": "code",
   "execution_count": null,
   "metadata": {},
   "outputs": [],
   "source": [
    "metleg = ['NB', 'RegLog', 'KNN', 'KNN(BP*)', 'SVC', 'SVC(BP*)', 'ArvClas', 'ArvClas(BP*)', 'RanFor', 'RanFor(BP*)', 'ANN', 'ANN(BP*)']"
   ]
  },
  {
   "cell_type": "code",
   "execution_count": null,
   "metadata": {},
   "outputs": [],
   "source": [
    "legenda = ['NB', 'RegLog', 'KNN', 'KNN(BP*)', 'SVC', 'SVC(BP*)', 'ArvClas', 'ArvClas(BP*)', 'RanFor', 'RanFor(BP*)', 'ANN', 'ANN(BP*)', 'Classe']"
   ]
  },
  {
   "cell_type": "code",
   "execution_count": null,
   "metadata": {},
   "outputs": [],
   "source": [
    "mediasCalc = []\n",
    "mediasTest = []\n",
    "mediasTrain = []\n",
    "AcuraciaTe = []\n",
    "AcuraciaTr = []\n",
    "PrecisaoTe = []\n",
    "PrecisaoTr = []\n",
    "F1Te = []\n",
    "F1Tr = []"
   ]
  },
  {
   "cell_type": "code",
   "execution_count": null,
   "metadata": {},
   "outputs": [],
   "source": [
    "def calcMedia(database):\n",
    "    for i in range(0,len(avaliacoes)):\n",
    "        mediasCalc.append(database.mean()[i])\n",
    "        \n",
    "def mediaMatrizTest(database):\n",
    "    for i in range(0,4):\n",
    "        mediasTest.append(database.mean()[i])\n",
    "\n",
    "def mediaMatrizTrain(database):\n",
    "    for i in range(0,4):\n",
    "        mediasTrain.append(database.mean()[i])\n",
    "        \n",
    "def incluirDados(database):\n",
    "    for i in range(0, len(database['Acuracia_Teste'])):\n",
    "        AcuraciaTe.append(database['Acuracia_Teste'][i])\n",
    "    for i in range(0, len(database['Acuracia_Teste'])):\n",
    "        AcuraciaTr.append(database['Acuracia_Treino'][i])\n",
    "    for i in range(0, len(database['Precisao_Teste'])):\n",
    "        PrecisaoTe.append(database['Precisao_Teste'][i])\n",
    "    for i in range(0, len(database['Precisao_Treino'])):\n",
    "        PrecisaoTr.append(database['Precisao_Treino'][i])\n",
    "    for i in range(0, len(database['F1_Teste'])):\n",
    "        F1Te.append(database['F1_Teste'][i])\n",
    "    for i in range(0, len(database['F1_Treino'])):\n",
    "        F1Tr.append(database['F1_Treino'][i])"
   ]
  },
  {
   "cell_type": "code",
   "execution_count": null,
   "metadata": {},
   "outputs": [],
   "source": [
    "incluirDados(db0)\n",
    "incluirDados(db1)\n",
    "incluirDados(db2)\n",
    "incluirDados(db3)\n",
    "incluirDados(db4)\n",
    "incluirDados(db5)\n",
    "incluirDados(db6)\n",
    "incluirDados(db7)\n",
    "incluirDados(db8)\n",
    "incluirDados(db9)\n",
    "incluirDados(db10)\n",
    "incluirDados(db11)"
   ]
  },
  {
   "cell_type": "code",
   "execution_count": null,
   "metadata": {},
   "outputs": [],
   "source": [
    "calcMedia(db0)\n",
    "calcMedia(db1)\n",
    "calcMedia(db2)\n",
    "calcMedia(db3)\n",
    "calcMedia(db4)\n",
    "calcMedia(db5)\n",
    "calcMedia(db6)\n",
    "calcMedia(db7)\n",
    "calcMedia(db8)\n",
    "calcMedia(db9)\n",
    "calcMedia(db10)\n",
    "calcMedia(db11)"
   ]
  },
  {
   "cell_type": "code",
   "execution_count": null,
   "metadata": {},
   "outputs": [],
   "source": [
    "mediasCalc = pd.DataFrame(data=np.reshape(mediasCalc, (12,6)), index=metodos, columns=avaliacoes)\n",
    "medias "
   ]
  },
  {
   "cell_type": "code",
   "execution_count": null,
   "metadata": {},
   "outputs": [],
   "source": [
    "AcuraciaTe = pd.DataFrame(data=np.reshape(AcuraciaTe, (12,30)))\n",
    "AcuraciaTe = AcuraciaTe.T\n",
    "AcuraciaTe.columns = metleg\n",
    "AcuraciaTr = pd.DataFrame(data=np.reshape(AcuraciaTr, (12,30)))\n",
    "AcuraciaTr = AcuraciaTr.T\n",
    "AcuraciaTr.columns = metleg"
   ]
  },
  {
   "cell_type": "code",
   "execution_count": null,
   "metadata": {},
   "outputs": [],
   "source": [
    "AcuraciaTe"
   ]
  },
  {
   "cell_type": "code",
   "execution_count": null,
   "metadata": {},
   "outputs": [],
   "source": [
    "PrecisaoTe = pd.DataFrame(data=np.reshape(PrecisaoTe, (12,30)))\n",
    "PrecisaoTe = PrecisaoTe.T\n",
    "PrecisaoTe.columns = metleg\n",
    "PrecisaoTr = pd.DataFrame(data=np.reshape(PrecisaoTr, (12,30)))\n",
    "PrecisaoTr = PrecisaoTr.T\n",
    "PrecisaoTr.columns = metleg"
   ]
  },
  {
   "cell_type": "code",
   "execution_count": null,
   "metadata": {},
   "outputs": [],
   "source": [
    "F1Te = pd.DataFrame(data=np.reshape(F1Te, (12,30)))\n",
    "F1Te = F1Te.T\n",
    "F1Te.columns = metleg\n",
    "F1Tr = pd.DataFrame(data=np.reshape(F1Tr, (12,30)))\n",
    "F1Tr = F1Tr.T\n",
    "F1Tr.columns = metleg"
   ]
  },
  {
   "cell_type": "code",
   "execution_count": null,
   "metadata": {},
   "outputs": [],
   "source": [
    "db0"
   ]
  },
  {
   "cell_type": "code",
   "execution_count": null,
   "metadata": {
    "scrolled": true
   },
   "outputs": [],
   "source": [
    "def set_box_color(bp, color):\n",
    "    plt.setp(bp['boxes'], color=color)\n",
    "    plt.setp(bp['whiskers'], color=color)\n",
    "    plt.setp(bp['caps'], color=color)\n",
    "    plt.setp(bp['medians'], color=color)\n",
    "\n",
    "plt.figure(figsize =(12, 7))\n",
    "\n",
    "bpl = plt.boxplot(AcuraciaTe.T, positions=np.array(range(len(AcuraciaTe.T)))*2.0-0.4, sym='', widths=0.7)\n",
    "bpr = plt.boxplot(AcuraciaTr.T, positions=np.array(range(len(AcuraciaTr.T)))*2.0+0.4, sym='', widths=0.7)\n",
    "set_box_color(bpl, '#D7191C') # colors are from http://colorbrewer2.org/\n",
    "set_box_color(bpr, '#2C7BB6')\n",
    "\n",
    "# draw temporary red and blue lines and use them to create a legend\n",
    "plt.plot([], c='#D7191C', label='Teste')\n",
    "plt.plot([], c='#2C7BB6', label='Treino')\n",
    "plt.legend()\n",
    "\n",
    "plt.xticks(range(0, len(metleg) * 2, 2), metleg)\n",
    "plt.xlim(-2, len(metleg)*2)\n",
    "plt.title(\"Acurácia\")\n",
    "plt.xlabel(\"Método\")\n",
    "plt.ylabel(\"Percentual\")\n",
    "\n",
    "plt.savefig('BPAcuracia.jpeg')"
   ]
  },
  {
   "cell_type": "code",
   "execution_count": null,
   "metadata": {},
   "outputs": [],
   "source": [
    "def set_box_color(bp, color):\n",
    "    plt.setp(bp['boxes'], color=color)\n",
    "    plt.setp(bp['whiskers'], color=color)\n",
    "    plt.setp(bp['caps'], color=color)\n",
    "    plt.setp(bp['medians'], color=color)\n",
    "\n",
    "plt.figure(figsize =(12, 7))\n",
    "\n",
    "bpl = plt.boxplot(PrecisaoTe.T, positions=np.array(range(len(PrecisaoTe.T)))*2.0-0.4, sym='', widths=0.7)\n",
    "bpr = plt.boxplot(PrecisaoTr.T, positions=np.array(range(len(PrecisaoTr.T)))*2.0+0.4, sym='', widths=0.7)\n",
    "set_box_color(bpl, '#D7191C') # colors are from http://colorbrewer2.org/\n",
    "set_box_color(bpr, '#2C7BB6')\n",
    "\n",
    "# draw temporary red and blue lines and use them to create a legend\n",
    "plt.plot([], c='#D7191C', label='Teste')\n",
    "plt.plot([], c='#2C7BB6', label='Treino')\n",
    "plt.legend()\n",
    "\n",
    "plt.xticks(range(0, len(metleg) * 2, 2), metleg)\n",
    "plt.xlim(-2, len(metleg)*2)\n",
    "plt.title(\"Precisão\")\n",
    "plt.xlabel(\"Método\")\n",
    "plt.ylabel(\"Percentual\")\n",
    "\n",
    "plt.savefig('BPPrecisao.jpeg')"
   ]
  },
  {
   "cell_type": "code",
   "execution_count": null,
   "metadata": {},
   "outputs": [],
   "source": [
    "def set_box_color(bp, color):\n",
    "    plt.setp(bp['boxes'], color=color)\n",
    "    plt.setp(bp['whiskers'], color=color)\n",
    "    plt.setp(bp['caps'], color=color)\n",
    "    plt.setp(bp['medians'], color=color)\n",
    "\n",
    "plt.figure(figsize =(12, 7))\n",
    "\n",
    "bpl = plt.boxplot(F1Te.T, positions=np.array(range(len(F1Te.T)))*2.0-0.4, sym='', widths=0.7)\n",
    "bpr = plt.boxplot(F1Tr.T, positions=np.array(range(len(F1Tr.T)))*2.0+0.4, sym='', widths=0.7)\n",
    "set_box_color(bpl, '#D7191C') # colors are from http://colorbrewer2.org/\n",
    "set_box_color(bpr, '#2C7BB6')\n",
    "\n",
    "# draw temporary red and blue lines and use them to create a legend\n",
    "plt.plot([], c='#D7191C', label='Teste')\n",
    "plt.plot([], c='#2C7BB6', label='Treino')\n",
    "plt.legend()\n",
    "\n",
    "plt.xticks(range(0, len(metleg) * 2, 2), metleg)\n",
    "plt.xlim(-2, len(metleg)*2)\n",
    "plt.title(\"Precisão\")\n",
    "plt.xlabel(\"Método\")\n",
    "plt.ylabel(\"Percentual\")\n",
    "\n",
    "plt.savefig('BPF1.jpeg')"
   ]
  },
  {
   "cell_type": "code",
   "execution_count": null,
   "metadata": {},
   "outputs": [],
   "source": [
    "fig = plt.figure(figsize =(12, 7))\n",
    "ax = fig.add_subplot()\n",
    "plt.boxplot(db11.T)\n",
    "\n",
    "plt.title(\"BoxPlot Testes\")\n",
    "plt.xlabel(\"Teste\")\n",
    "plt.ylabel(\"Percentual\")\n",
    "ax.set_xticklabels(metleg)\n",
    "plt.show()"
   ]
  },
  {
   "cell_type": "code",
   "execution_count": null,
   "metadata": {},
   "outputs": [],
   "source": [
    "fig = plt.figure(figsize =(10, 7))\n",
    "ax = fig.add_subplot()\n",
    "plt.boxplot(AcuraciaTe.T)\n",
    "\n",
    "plt.title(\"BoxPlot Testes\")\n",
    "#plt.xlabel(\"Teste\")\n",
    "#plt.ylabel(\"Percentual\")\n",
    "#ax.set_xticklabels(avaliacoes)\n",
    "plt.show()"
   ]
  },
  {
   "cell_type": "code",
   "execution_count": null,
   "metadata": {},
   "outputs": [],
   "source": [
    "plt.figure(figsize=(12,8))\n",
    "\n",
    "barWidth = 0.15\n",
    "\n",
    "r1 = np.arange(len(mediasCalc.index))\n",
    "r2 = [x + barWidth for x in r1]\n",
    "r3 = [x + barWidth for x in r2]\n",
    "r4 = [x + barWidth for x in r3]\n",
    "r5 = [x + barWidth for x in r4]\n",
    "r6 = [x + barWidth for x in r5]\n",
    "\n",
    "plt.bar(r1, mediasCalc['Acuracia_Teste'], color=\"#A637F0\", width=barWidth, label=\"Acurácia Teste\")\n",
    "plt.bar(r2, mediasCalc['Acuracia_Treino'], color=\"#5A19FA\", width=barWidth, label=\"Acurácia Treino\")\n",
    "plt.bar(r3, mediasCalc['Precisao_Teste'], color=\"#1B22E0\", width=barWidth, label=\"Precisão Teste\")\n",
    "plt.bar(r4, mediasCalc['Precisao_Treino'], color=\"#1160F7\", width=barWidth, label=\"Precisão Treino\")\n",
    "plt.bar(r5, mediasCalc['F1_Teste'], color=\"#119FED\", width=barWidth, label=\"F1 Teste\")\n",
    "plt.bar(r6, mediasCalc['F1_Treino'], color=\"#14CEF0\", width=barWidth, label=\"F1 Treino\")\n",
    "\n",
    "plt.xlabel('Métodos')\n",
    "plt.xticks([r + barWidth for r in range(len(mediasCalc.index))], metleg)\n",
    "plt.ylabel('Percentual')\n",
    "plt.title('Avaliação dos Scores')\n",
    "\n",
    "plt.legend()\n",
    "plt.show()"
   ]
  },
  {
   "cell_type": "code",
   "execution_count": null,
   "metadata": {},
   "outputs": [],
   "source": [
    "plt.figure(figsize=(12,6))\n",
    "\n",
    "barWidth = 0.15\n",
    "\n",
    "r1 = np.arange(len(db1.index))\n",
    "r2 = [x + barWidth for x in r1]\n",
    "r3 = [x + barWidth for x in r2]\n",
    "r4 = [x + barWidth for x in r3]\n",
    "r5 = [x + barWidth for x in r4]\n",
    "r6 = [x + barWidth for x in r5]\n",
    "\n",
    "plt.bar(r1, db1['Acuracia_Teste'], color=\"#A637F0\", width=barWidth, label=\"Acurácia Teste\")\n",
    "plt.bar(r2, db1['Acuracia_Treino'], color=\"#5A19FA\", width=barWidth, label=\"Acurácia Treino\")\n",
    "plt.bar(r3, db1['Precisao_Teste'], color=\"#1B22E0\", width=barWidth, label=\"Precisão Teste\")\n",
    "plt.bar(r4, db1['Precisao_Treino'], color=\"#1160F7\", width=barWidth, label=\"Precisão Treino\")\n",
    "plt.bar(r5, db1['F1_Teste'], color=\"#119FED\", width=barWidth, label=\"F1 Teste\")\n",
    "plt.bar(r6, db1['F1_Treino'], color=\"#14CEF0\", width=barWidth, label=\"F1 Treino\")\n",
    "\n",
    "plt.xlabel('Métodos')\n",
    "plt.xticks(range(0,30))\n",
    "plt.ylabel('Percentual')\n",
    "plt.title('Avaliação dos Scores')\n",
    "\n",
    "plt.legend()\n",
    "plt.show()"
   ]
  },
  {
   "cell_type": "code",
   "execution_count": null,
   "metadata": {},
   "outputs": [],
   "source": [
    "db11.mean()"
   ]
  },
  {
   "cell_type": "code",
   "execution_count": null,
   "metadata": {},
   "outputs": [],
   "source": [
    "db11.min()"
   ]
  },
  {
   "cell_type": "code",
   "execution_count": null,
   "metadata": {},
   "outputs": [],
   "source": [
    "db11.max()"
   ]
  },
  {
   "cell_type": "code",
   "execution_count": null,
   "metadata": {},
   "outputs": [],
   "source": []
  },
  {
   "cell_type": "code",
   "execution_count": null,
   "metadata": {},
   "outputs": [],
   "source": []
  }
 ],
 "metadata": {
  "kernelspec": {
   "display_name": "Python 3 (ipykernel)",
   "language": "python",
   "name": "python3"
  },
  "language_info": {
   "codemirror_mode": {
    "name": "ipython",
    "version": 3
   },
   "file_extension": ".py",
   "mimetype": "text/x-python",
   "name": "python",
   "nbconvert_exporter": "python",
   "pygments_lexer": "ipython3",
   "version": "3.9.6"
  }
 },
 "nbformat": 4,
 "nbformat_minor": 4
}
